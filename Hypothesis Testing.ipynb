{
 "cells": [
  {
   "cell_type": "markdown",
   "metadata": {},
   "source": [
    "# 1. Load Library"
   ]
  },
  {
   "cell_type": "code",
   "execution_count": 1,
   "metadata": {},
   "outputs": [],
   "source": [
    "from datetime import datetime\n",
    "import io\n",
    "import pandas as pd\n",
    "import pyreadstat\n",
    "import numpy as np\n",
    "from scipy import stats\n",
    "from scipy.stats import chi2_contingency,zscore,ttest_1samp,ttest_ind,levene,kstest,mannwhitneyu,ttest_rel,norm,rankdata,kruskal,pearsonr,spearmanr\n",
    "from statsmodels.formula.api import ols\n",
    "import statsmodels.formula.api as smf\n",
    "from statsmodels.stats.multicomp import pairwise_tukeyhsd,MultiComparison\n",
    "from statsmodels.stats.multitest import multipletests\n",
    "from statsmodels.stats.libqsturng import psturng\n",
    "import statsmodels.api as sm\n",
    "import pingouin as pg\n",
    "import matplotlib.pyplot as plt\n",
    "import seaborn as sns\n",
    "import gspread\n",
    "from gspread_dataframe import set_with_dataframe\n",
    "from google.oauth2.service_account import Credentials\n",
    "from pydrive.auth import GoogleAuth\n",
    "from pydrive.drive import GoogleDrive\n",
    "import xlsxwriter\n",
    "from openpyxl.drawing.image import Image"
   ]
  },
  {
   "cell_type": "markdown",
   "metadata": {},
   "source": [
    "# 2. Load Scope Spreadsheets"
   ]
  },
  {
   "cell_type": "code",
   "execution_count": 2,
   "metadata": {},
   "outputs": [],
   "source": [
    "scopes = ['https://www.googleapis.com/auth/spreadsheets',\n",
    "        'https://www.googleapis.com/auth/drive']\n",
    "\n",
    "credentials = Credentials.from_service_account_file('service account file location', scopes=scopes)\n",
    "\n",
    "gc = gspread.authorize(credentials)\n",
    "\n",
    "gauth = GoogleAuth()\n",
    "drive = GoogleDrive(gauth)\n"
   ]
  },
  {
   "cell_type": "markdown",
   "metadata": {},
   "source": [
    "# 3. Read Data"
   ]
  },
  {
   "cell_type": "code",
   "execution_count": 3,
   "metadata": {},
   "outputs": [
    {
     "name": "stdout",
     "output_type": "stream",
     "text": [
      "<class 'pandas.core.frame.DataFrame'>\n",
      "RangeIndex: 500 entries, 0 to 499\n",
      "Columns: 153 entries, stt to hocvan4n\n",
      "dtypes: float64(1), int64(44), object(108)\n",
      "memory usage: 597.8+ KB\n"
     ]
    }
   ],
   "source": [
    "# File path to your .sav file\n",
    "file_path = \"Data thuc hanh.csv"\n",
    "\n",
    "# Read the SPSS file\n",
    "df = pd.read_csv(file_path)\n",
    "# df, meta = pyreadstat.read_sav(file_path)\n",
    "\n",
    "# Display the first few rows and column information\n",
    "df.head(),df.info(),df.describe()\n",
    "\n",
    "# Capture the output of df.info()\n",
    "buffer_info = io.StringIO()\n",
    "df.info(buf=buffer_info)\n",
    "info_str = buffer_info.getvalue()\n",
    "\n",
    "# Capture the output of df.describe()\n",
    "describe_df = df.describe()\n",
    "\n",
    "# Save to Excel\n",
    "with pd.ExcelWriter('info_describe.xlsx') as writer:\n",
    "  # Write df.info() to the first sheet\n",
    "  pd.DataFrame({'Info': info_str.split('\\n')}).to_excel(writer, sheet_name='Info', index=False)\n",
    "  \n",
    "  # Write df.describe() to the second sheet\n",
    "  describe_df.to_excel(writer, sheet_name='Describe')"
   ]
  },
  {
   "cell_type": "markdown",
   "metadata": {},
   "source": [
    "# 4. Data Wrangling"
   ]
  },
  {
   "cell_type": "code",
   "execution_count": 4,
   "metadata": {},
   "outputs": [],
   "source": [
    "# Convert these columns to numeric\n",
    "columns_to_convert = ['c2a1', 'c2a2', 'c2a3', 'c2a4', 'c2a5', 'c2a6', 'c2a7', 'c2a8', 'c2a9', 'c2b1', 'c2b2', 'c2b3', 'c2c1', 'c2c2', 'c2c3', 'c2c4', 'c2c5', 'c2c6', 'c2d2', 'c2d3', 'c2d4', 'c2d5', 'c2d6', 'c4.2', 'c5.2', 'c8', 'c10', 'c11.1', 'c11.2', 'c12', 'c13', 'c14', 'c15', 'c16.1', 'c16.2', 'c16.3', 'c16.4', 'c16.5', 'c16.6', 'c16.7', 'c16.8', 'c16.9', 'c16.10', 'c16.11', 'c17.1', 'c17.2', 'c17.3', 'c17.4', 'c17.5', 'c18', 'c19.1', 'c19.2', 'c19.3', 'c20.1', 'c20.2', 'c20.3', 'c21', 'c22.1', 'c22.2', 'c22.3', 'c23a', 'c23b', 'c24a', 'c24b', 'c25', 'c26.1', 'c26.2', 'c26.3', 'c27', 'c28', 'c30a1', 'c30a2', 'c30a3', 'c30a4', 'c30a5', 'c30b1', 'c30b2', 'c30b3', 'c30b4', 'c30c1', 'c30c2', 'c30c3', 'c30c4', 'c30c5', 'c30d1', 'c30d2', 'c31.1', 'c31.2', 'c32.a1', 'c32.a2', 'c32.a3', 'c32.b1', 'c32.b2', 'c32.b3', 'c33.1', 'c33.2', 'c33.3', 'c34.1', 'c34.2', 'c34.3', 'c35.1', 'c35.2', 'c35.3', 'c36.8', 'c37.2', 'c37.3', 'c37.4', 'c37.5']\n",
    "df[columns_to_convert] = df[columns_to_convert].apply(pd.to_numeric, errors='coerce')"
   ]
  },
  {
   "cell_type": "markdown",
   "metadata": {},
   "source": [
    "# 5. Data Encryption\n",
    "Convert all dimension to value"
   ]
  },
  {
   "cell_type": "markdown",
   "metadata": {},
   "source": [
    "# 6. Descriptive Statistics\n",
    "This provides:\n",
    "-\tMean, standard deviation, min, 25th percentile, median (50th), 75th percentile, and max for numerical data.\n",
    "-\tUnique, top, and frequency for categorical data."
   ]
  },
  {
   "cell_type": "code",
   "execution_count": 5,
   "metadata": {},
   "outputs": [],
   "source": [
    "# Summary statistics\n",
    "basic_stats = df.describe(include='all')\n",
    "\n",
    "# Transpose for better readability\n",
    "descriptive_statistics = basic_stats.T\n",
    "\n",
    "descriptive_statistics.to_excel('descriptive_statistics.xlsx', sheet_name='Descriptive Statistics', index=True)"
   ]
  },
  {
   "cell_type": "markdown",
   "metadata": {},
   "source": [
    "# 7. Inferential Statistics"
   ]
  },
  {
   "cell_type": "markdown",
   "metadata": {},
   "source": [
    "# 7.1 Pearson Chi-Square\n",
    "2 biến định tính"
   ]
  },
  {
   "cell_type": "markdown",
   "metadata": {},
   "source": [
    "Kiểm định mỗi liên hệ giữa hai biến định tính. df['hocvan'] - Trình độ học vấn, df['c6.1'] - Cách đọc tờ báo (đọc từ đầu đến cuối, đọc lướt các mục, chỉ đọc mục hoặc trang ưu thích, xem các tin đáng chú ý)"
   ]
  },
  {
   "cell_type": "code",
   "execution_count": 6,
   "metadata": {},
   "outputs": [],
   "source": [
    "# Input the clolumns & Significance level\n",
    "x = df['hocvan4n']\n",
    "y = df['c6.1']\n",
    "alpha = 0.05"
   ]
  },
  {
   "cell_type": "code",
   "execution_count": 7,
   "metadata": {},
   "outputs": [
    {
     "name": "stdout",
     "output_type": "stream",
     "text": [
      "Pearson Chi-Square Results:\n",
      "        Chi2  p-value  Degrees of Freedom  \\\n",
      "0  20.237762   0.0165                   9   \n",
      "\n",
      "                                Expected Frequencies  \n",
      "0  [[17.76, 30.24, 5.52, 6.48], [63.64, 108.36, 1...  \n",
      "Reject the null hypothesis (p-value <= 0.05). There is a significant difference between the means of the two groups.\n",
      "Read file chi_square_test_results.xlsx\n"
     ]
    }
   ],
   "source": [
    "# Create a detailed Case Processing Summary table\n",
    "case_processing_summary = pd.DataFrame({\n",
    "  'Total': [len(x)],\n",
    "  'Missing Cases': [x.isnull().count()],\n",
    "  'Valid': [len(x) - x.isnull().count()]\n",
    "})\n",
    "\n",
    "# Create a Crosstabulation table with additional percentage information\n",
    "crosstab_with_totals = pd.crosstab(x, y, margins=True)\n",
    "crosstab_with_percent = pd.crosstab(x, y, margins=True, normalize='all')*100\n",
    "\n",
    "# Combine both into a multi-level DataFrame\n",
    "crosstab_combined = pd.concat(\n",
    "    {'User': crosstab_with_totals, 'Percent_User': crosstab_with_percent}, \n",
    "    axis=1\n",
    ")\n",
    "\n",
    "# Perform the Chi-Square test and create a table with the results\n",
    "crosstab = pd.crosstab(x, y)\n",
    "\n",
    "# Chi-Square Test\n",
    "chi2, p, dof, expected = chi2_contingency(crosstab)\n",
    "chi_square_results = {\n",
    "  'Chi2': chi2,\n",
    "  'p-value': p,\n",
    "  'Degrees of Freedom': dof,\n",
    "  'Expected Frequencies': expected\n",
    "}\n",
    "\n",
    "chi_square_results_df = pd.DataFrame({\n",
    "  'Chi2': [chi_square_results['Chi2']],\n",
    "  'p-value': [chi_square_results['p-value']],\n",
    "  'Degrees of Freedom': [chi_square_results['Degrees of Freedom']],\n",
    "  'Expected Frequencies': [chi_square_results['Expected Frequencies']]\n",
    "})\n",
    "print('Pearson Chi-Square Results:')\n",
    "print(chi_square_results_df)\n",
    "\n",
    "# Test the p-value\n",
    "if p < alpha:\n",
    "  hypothesis_testing = pd.DataFrame({\n",
    "    'Result': [f'Reject the null hypothesis (p-value <= {alpha}). There is a significant difference between the means of the two groups.']\n",
    "  })\n",
    "  print(f'Reject the null hypothesis (p-value <= {alpha}). There is a significant difference between the means of the two groups.')\n",
    "else:\n",
    "  hypothesis_testing = pd.DataFrame({\n",
    "    'Result': ['Fail to reject the null hypothesis (p-value > {alpha}). There is no significant difference between the means of the two groups.']\n",
    "  })\n",
    "  print(f'Fail to reject the null hypothesis (p-value > {alpha}). There is no significant difference between the means of the two groups.')\n",
    "\n",
    "# Save all the tables into a single CSV file\n",
    "with pd.ExcelWriter('chi_square_test_results.xlsx') as writer:\n",
    "  case_processing_summary.to_excel(writer, sheet_name='Case Processing Summary', index=False)\n",
    "  crosstab_combined.to_excel(writer, sheet_name='Crosstabulation')\n",
    "  chi_square_results_df.to_excel(writer, sheet_name='Chi-Square Test Results', index=False)\n",
    "  hypothesis_testing.to_excel(writer, sheet_name='Hypothesis Testing Results', index=False)\n",
    "\n",
    "print('Read file chi_square_test_results.xlsx')"
   ]
  },
  {
   "cell_type": "markdown",
   "metadata": {},
   "source": [
    "# 7.2 One-Sample T-test\n",
    "1 biến định lượng, 1 biến định tính. So sánh trung bình của một tổng thể với một giá trị cụ thể nào đó. VD: Kiểm định tuổi trung bình của độc giả báo Sài Gòn tiếp thị (SGTT) là 30 tuổi"
   ]
  },
  {
   "cell_type": "code",
   "execution_count": 8,
   "metadata": {},
   "outputs": [
    {
     "name": "stdout",
     "output_type": "stream",
     "text": [
      "docSGTT\n",
      "0    341\n",
      "1    159\n",
      "Name: count, dtype: int64\n",
      "       docSGTT        tuoi\n",
      "count    159.0  159.000000\n",
      "mean       1.0   32.786164\n",
      "std        0.0   10.328383\n",
      "min        1.0   18.000000\n",
      "25%        1.0   24.000000\n",
      "50%        1.0   31.000000\n",
      "75%        1.0   40.000000\n",
      "max        1.0   59.000000\n"
     ]
    },
    {
     "name": "stderr",
     "output_type": "stream",
     "text": [
      "/var/folders/90/0lwzz7y107b9zlcpf99xnks80000gn/T/ipykernel_46462/3435288329.py:2: PerformanceWarning: DataFrame is highly fragmented.  This is usually the result of calling `frame.insert` many times, which has poor performance.  Consider joining all columns at once using pd.concat(axis=1) instead. To get a de-fragmented frame, use `newframe = frame.copy()`\n",
      "  df['docSGTT'] = (df[['c2a1', 'c2a2', 'c2a3', 'c2a4', 'c2a5', 'c2a6', 'c2a7', 'c2a8', 'c2a9']] == 12).any(axis=1).astype(int)\n"
     ]
    }
   ],
   "source": [
    "# List of user read Sai Gon Tiep Thi newspaper or not\n",
    "df['docSGTT'] = (df[['c2a1', 'c2a2', 'c2a3', 'c2a4', 'c2a5', 'c2a6', 'c2a7', 'c2a8', 'c2a9']] == 12).any(axis=1).astype(int)\n",
    "\n",
    "docSGTT_counts = df['docSGTT'].value_counts()\n",
    "print(docSGTT_counts)\n",
    "\n",
    "# Filter the DataFrame to only include users who read Sai Gon Tiep Thi\n",
    "df_docSGTT = df.loc[df['docSGTT'] == 1, ['docSGTT', 'tuoi']]\n",
    "print(df_docSGTT.describe())"
   ]
  },
  {
   "cell_type": "code",
   "execution_count": 9,
   "metadata": {},
   "outputs": [],
   "source": [
    "# Input Test value\n",
    "table = df_docSGTT\n",
    "x = table['tuoi']\n",
    "test_value = 30\n",
    "confidence_interval = 0.95\n",
    "alpha = round(1 - confidence_interval,3)\n",
    "z_value = norm.ppf((1 + confidence_interval) / 2)"
   ]
  },
  {
   "cell_type": "code",
   "execution_count": 10,
   "metadata": {},
   "outputs": [
    {
     "name": "stdout",
     "output_type": "stream",
     "text": [
      "One-sample T-test results:\n",
      "   Test Value         t   df  Sig. (2-tailed)  Mean Difference  \\\n",
      "0          30  3.401518  158         0.000849         2.786164   \n",
      "\n",
      "   95.0% Confidence Interval of the Difference (Lower)  \\\n",
      "0                                           1.180769     \n",
      "\n",
      "   95.0% Confidence Interval of the Difference (Upper)  \n",
      "0                                           4.391558    \n",
      "Reject the null hypothesis (p-value <= 0.05). There is a significant difference between the means of the two groups. Mean Difference = 2.786163522012579\n",
      "Read file one_sample_t_test_results.xlsx\n"
     ]
    }
   ],
   "source": [
    "# Perform one-sample T-test\n",
    "t_stat, p_value = ttest_1samp(x, test_value)\n",
    "\n",
    "# Create the one-sample statistics table\n",
    "one_sample_statistics = pd.DataFrame({\n",
    "  'N': [x.count()],\n",
    "  'Mean': [x.mean()],\n",
    "  'Std. Deviation': [x.std()],\n",
    "  'Std. Error Mean': [x.sem()]\n",
    "})\n",
    "\n",
    "# Create the one-sample test table\n",
    "one_sample_test = pd.DataFrame({\n",
    "  'Test Value': [test_value],\n",
    "  't': [t_stat],\n",
    "  'df': [len(table) - 1],\n",
    "  'Sig. (2-tailed)': [p_value],\n",
    "  'Mean Difference': [x.mean() - test_value],\n",
    "  f'{round(confidence_interval*100,0)}% Confidence Interval of the Difference (Lower)': [x.mean() - test_value - z_value * x.sem()],\n",
    "  f'{round(confidence_interval*100,0)}% Confidence Interval of the Difference (Upper)': [x.mean() - test_value + z_value * x.sem()]\n",
    "})\n",
    "print('One-sample T-test results:')\n",
    "print(one_sample_test)\n",
    "\n",
    "# Test the p-value\n",
    "if p_value < alpha:\n",
    "  hypothesis_testing = pd.DataFrame({\n",
    "    'Result': [f'Reject the null hypothesis (p-value <= {alpha}). There is a significant difference between the means of the two groups. Mean Difference = {x.mean() - test_value}']\n",
    "  })\n",
    "  print(f'Reject the null hypothesis (p-value <= {alpha}). There is a significant difference between the means of the two groups. Mean Difference = {x.mean() - test_value}')\n",
    "else:\n",
    "  hypothesis_testing = pd.DataFrame({\n",
    "    'Result': [f'Fail to reject the null hypothesis (p-value > {alpha}). There is no significant difference between the means of the two groups.']\n",
    "  })\n",
    "  print(f'Fail to reject the null hypothesis (p-value > {alpha}). There is no significant difference between the means of the two groups.')\n",
    "\n",
    "# Save the results to an Excel file\n",
    "with pd.ExcelWriter('one_sample_t_test_results.xlsx') as writer:\n",
    "  one_sample_statistics.to_excel(writer, sheet_name='One-Sample Statistics', index=False)\n",
    "  one_sample_test.to_excel(writer, sheet_name='One-Sample Test', index=False)\n",
    "  hypothesis_testing.to_excel(writer, sheet_name='Hypothesis Testing Results', index=False)\n",
    "\n",
    "print('Read file one_sample_t_test_results.xlsx')"
   ]
  },
  {
   "cell_type": "markdown",
   "metadata": {},
   "source": [
    "# 7.3 Independent-sample T-test\n",
    "1 biến định tính, 1 biến định lượng. So sánh trị trung bình của 2 nhóm tổng thể riêng biệt trong biến định tính."
   ]
  },
  {
   "cell_type": "markdown",
   "metadata": {},
   "source": [
    "Kiểm định biến định lượng sonk - số nhân khẩu 1 gia đình và biến định tính tp - Thành Phố. So sánh giữa Hà Nội - 1 và TP HCM -2 về số nhân khẩu trung bình của hộ gia đình"
   ]
  },
  {
   "cell_type": "code",
   "execution_count": 11,
   "metadata": {},
   "outputs": [
    {
     "name": "stdout",
     "output_type": "stream",
     "text": [
      "tp\n",
      "1    250\n",
      "2    250\n",
      "Name: count, dtype: int64     sum_sonk\n",
      "tp          \n",
      "1       1073\n",
      "2       1332\n"
     ]
    }
   ],
   "source": [
    "# Filter the DataFrame to only include rows where 'tp' is 1 or 2\n",
    "filtered_df = df[df['tp'].isin([1, 2])][['tp', 'sonk']]\n",
    "\n",
    "filtered_df_count_tp = filtered_df['tp'].value_counts()\n",
    "filtered_df_sum_sonk = filtered_df.groupby('tp').agg(\n",
    "  sum_sonk = ('sonk', 'sum')\n",
    ")\n",
    "print(filtered_df_count_tp,filtered_df_sum_sonk)"
   ]
  },
  {
   "cell_type": "markdown",
   "metadata": {},
   "source": [
    "**Input Test Value**"
   ]
  },
  {
   "cell_type": "code",
   "execution_count": 12,
   "metadata": {},
   "outputs": [],
   "source": [
    "# Input Test value\n",
    "table = filtered_df\n",
    "confidence_interval = 0.95\n",
    "alpha = round(1 - confidence_interval,3)\n",
    "z_value = norm.ppf((1 + confidence_interval) / 2)\n",
    "group1 = table[table['tp'] == 1]['sonk']\n",
    "group2 = table[table['tp'] == 2]['sonk']\n",
    "x = table['sonk'] #quantitative data\n",
    "y = table['tp'] #qualitative data"
   ]
  },
  {
   "cell_type": "markdown",
   "metadata": {},
   "source": [
    "**Kolmogorov-Smirnow test to see if the data is normally distributed:**\n",
    "- If the data is normal distribution, use Independent Samples T-Test.\n",
    "- If the data is not normal distribution, use Mann-Whitney test."
   ]
  },
  {
   "cell_type": "code",
   "execution_count": 13,
   "metadata": {},
   "outputs": [
    {
     "name": "stdout",
     "output_type": "stream",
     "text": [
      "Kolmogorov-Smirnov Test Results:\n",
      "  Variable  KS Statistic       p-value  alpha  \\\n",
      "0     sonk      0.207213  2.625808e-19   0.05   \n",
      "\n",
      "                                              Result  \n",
      "0  Reject the null hypothesis (data does not foll...  \n",
      "Reject the null hypothesis (data does not follow normal distribution - Use Mann-Whitney Test)\n",
      "Read file independent_samples_t_test_ks_test_results.xlsx\n"
     ]
    }
   ],
   "source": [
    "# Perform the Kolmogorov-Smirnov test for normality\n",
    "ks_statistic, p_value = kstest(x, 'norm', args=(x.mean(), x.std()))\n",
    "\n",
    "# Create the Kolmogorov-Smirnov test results table\n",
    "ks_test_results = pd.DataFrame({\n",
    "  'Variable': [x.name],\n",
    "  'KS Statistic': [ks_statistic],\n",
    "  'p-value': [p_value],\n",
    "  'alpha': [alpha],\n",
    "  'Result': ['Reject the null hypothesis (data does not follow normal distribution)' if p_value <= alpha else 'Fail to reject the null hypothesis (data follows normal distribution)']\n",
    "})\n",
    "print('Kolmogorov-Smirnov Test Results:')\n",
    "print(ks_test_results)\n",
    "\n",
    "# Print the results\n",
    "if p_value < alpha:\n",
    "  print('Reject the null hypothesis (data does not follow normal distribution - Use Mann-Whitney Test)')\n",
    "else:\n",
    "  print('Fail to reject the null hypothesis (data follows normal distribution - Use Independent Samples T-Test)')\n",
    "\n",
    "# Save the results to an Excel file\n",
    "ks_test_results.to_excel('independent_samples_t_test_ks_test_results.xlsx', sheet_name='KS Test Results', index=False)\n",
    "\n",
    "print('Read file independent_samples_t_test_ks_test_results.xlsx')"
   ]
  },
  {
   "cell_type": "markdown",
   "metadata": {},
   "source": [
    "**Independent Samples T-Test**"
   ]
  },
  {
   "cell_type": "code",
   "execution_count": 14,
   "metadata": {},
   "outputs": [
    {
     "name": "stdout",
     "output_type": "stream",
     "text": [
      "Group Statistics:\n",
      "  Group    N   Mean  Std. Deviation  Std. Error Mean\n",
      "0     1  250  4.292        1.666688         0.105411\n",
      "1     2  250  5.328        2.714755         0.171696\n",
      "Independent Samples T-Test Results:\n",
      "                                      Test  Statistic   df  Sig. (2-tailed)  \\\n",
      "0  Levene's Test for Equality of Variances  31.409280  498     3.464659e-08   \n",
      "1             t-test for Equality of Means  -5.142153  498     3.910663e-07   \n",
      "2     t-test for Equality of Means (Welch)  -5.142153  498     4.201224e-07   \n",
      "\n",
      "   Mean Difference  95.0% Confidence Interval of the Difference (Lower)  \\\n",
      "0              NaN                                                NaN     \n",
      "1           -1.036                                          -1.579119     \n",
      "2           -1.036                                          -1.579119     \n",
      "\n",
      "   95.0% Confidence Interval of the Difference (Upper)  \n",
      "0                                                NaN    \n",
      "1                                          -0.492881    \n",
      "2                                          -0.492881    \n",
      "Reject the null hypothesis (p-value <= 0.05). There is a significant difference between the means of the two groups. Mean Difference: -1.0360000000000005\n",
      "Read file independent_samples_t_test_results.xlsx\n"
     ]
    }
   ],
   "source": [
    "# Calculate group statistics\n",
    "group_statistics = pd.DataFrame({\n",
    "  'Group': ['1', '2'],\n",
    "  'N': [group1.count(), group2.count()],\n",
    "  'Mean': [group1.mean(), group2.mean()],\n",
    "  'Std. Deviation': [group1.std(), group2.std()],\n",
    "  'Std. Error Mean': [group1.sem(), group2.sem()]\n",
    "})\n",
    "print('Group Statistics:')\n",
    "print(group_statistics)\n",
    "\n",
    "# Perform Levene's Test for Equality of Variances\n",
    "levene_stat, levene_p = levene(group1, group2)\n",
    "\n",
    "# Perform t-test for Equality of Means\n",
    "t_stat, p_value = ttest_ind(group1, group2, equal_var=True)\n",
    "t_stat_welch, p_value_welch = ttest_ind(group1, group2, equal_var=False)\n",
    "\n",
    "# Calculate confidence intervals\n",
    "ci_lower = group1.mean() - group2.mean() - z_value * (group1.sem() + group2.sem())\n",
    "ci_upper = group1.mean() - group2.mean() + z_value * (group1.sem() + group2.sem())\n",
    "\n",
    "# Create the independent samples test table\n",
    "independent_samples_test = pd.DataFrame({\n",
    "  'Test': ['Levene\\'s Test for Equality of Variances', 't-test for Equality of Means', 't-test for Equality of Means (Welch)'],\n",
    "  'Statistic': [levene_stat, t_stat, t_stat_welch],\n",
    "  'df': [len(group1) + len(group2) - 2, len(group1) + len(group2) - 2, len(group1) + len(group2) - 2],\n",
    "  'Sig. (2-tailed)': [levene_p, p_value, p_value_welch],\n",
    "  'Mean Difference': [None, group1.mean() - group2.mean(), group1.mean() - group2.mean()],\n",
    "  f'{round(confidence_interval*100,1)}% Confidence Interval of the Difference (Lower)': [None, ci_lower, ci_lower],\n",
    "  f'{round(confidence_interval*100,1)}% Confidence Interval of the Difference (Upper)': [None, ci_upper, ci_upper]\n",
    "})\n",
    "print('Independent Samples T-Test Results:')\n",
    "print(independent_samples_test)\n",
    "\n",
    "# Test the p-value\n",
    "if levene_p < alpha and p_value_welch < alpha:\n",
    "  hypothesis_testing = pd.DataFrame({\n",
    "    'Result': [f'Reject the null hypothesis (p-value <= {alpha}). There is a significant difference between the means of the two groups. Mean Difference: {group1.mean() - group2.mean()}']\n",
    "  })\n",
    "  print(f'Reject the null hypothesis (p-value <= {alpha}). There is a significant difference between the means of the two groups. Mean Difference: {group1.mean() - group2.mean()}')\n",
    "elif levene_p < alpha and p_value_welch >= alpha:\n",
    "  hypothesis_testing = pd.DataFrame({\n",
    "    'Result': [f'Fail to reject the null hypothesis (p-value > {alpha}). There is no significant difference between the means of the two groups.']\n",
    "  })\n",
    "  print(f'Fail to reject the null hypothesis (p-value > {alpha}). There is no significant difference between the means of the two groups.')\n",
    "elif levene_p >= alpha and p_value < alpha:\n",
    "  hypothesis_testing = pd.DataFrame({\n",
    "    'Result': [f'Reject the null hypothesis (p-value <= {alpha}). There is a significant difference between the means of the two groups. Mean Difference: {group1.mean() - group2.mean()}']\n",
    "  })\n",
    "  print(f'Reject the null hypothesis (p-value <= {alpha}). There is a significant difference between the means of the two groups. Mean Difference: {group1.mean() - group2.mean()}')\n",
    "else:\n",
    "  hypothesis_testing = pd.DataFrame({\n",
    "    'Result': [f'Fail to reject the null hypothesis (p-value > {alpha}). There is no significant difference between the means of the two groups.']\n",
    "  })\n",
    "  print(f'Fail to reject the null hypothesis (p-value > {alpha}). There is no significant difference between the means of the two groups.')\n",
    "\n",
    "# Save the results to an Excel file\n",
    "with pd.ExcelWriter('independent_samples_t_test_results.xlsx') as writer:\n",
    "  group_statistics.to_excel(writer, sheet_name='Group Statistics', index=False)\n",
    "  independent_samples_test.to_excel(writer, sheet_name='Independent Samples T-Test', index=False)\n",
    "  hypothesis_testing.to_excel(writer, sheet_name='Hypothesis Testing Results', index=False)\n",
    "\n",
    "print('Read file independent_samples_t_test_results.xlsx')"
   ]
  },
  {
   "cell_type": "markdown",
   "metadata": {},
   "source": [
    "**Mann-Whitney Test**"
   ]
  },
  {
   "cell_type": "code",
   "execution_count": 15,
   "metadata": {},
   "outputs": [
    {
     "name": "stdout",
     "output_type": "stream",
     "text": [
      "Group Statistics:\n",
      "  Group    N  Mean Rank  Sum of Ranks\n",
      "0     1  250      125.5       31375.0\n",
      "1     2  250      125.5       31375.0\n",
      "Mann-Whitney U Test Results:\n",
      "   U Statistic   p-value  alpha                                        Result\n",
      "0      23620.5  0.000001   0.05  Reject the null hypothesis (p-value <= 0.05)\n",
      "Reject the null hypothesis (p-value <= 0.05). There is a significant difference between the means of the two groups.\n",
      "Read file mann_whitney_test_results.xlsx\n"
     ]
    }
   ],
   "source": [
    "# Perform the Mann-Whitney U test\n",
    "u_stat, p_value = mannwhitneyu(group1, group2, alternative='two-sided')\n",
    "\n",
    "# Create the ranks table\n",
    "ranks = pd.DataFrame({\n",
    "  'Group': ['1', '2'],\n",
    "  'N': [len(group1), len(group2)],\n",
    "  'Mean Rank': [group1.rank().mean(), group2.rank().mean()],\n",
    "  'Sum of Ranks': [group1.rank().sum(), group2.rank().sum()]\n",
    "})\n",
    "print('Group Statistics:')\n",
    "print(ranks)\n",
    "\n",
    "# Create the test statistics table\n",
    "test_statistics = pd.DataFrame({\n",
    "  'U Statistic': [u_stat],\n",
    "  'p-value': [p_value],\n",
    "  'alpha': [alpha],\n",
    "  'Result': [f'Reject the null hypothesis (p-value <= {alpha})' if p_value <= alpha else f'Fail to reject the null hypothesis (p-value > {alpha})']\n",
    "})\n",
    "print('Mann-Whitney U Test Results:')\n",
    "print(test_statistics)\n",
    "\n",
    "# Test the p-value\n",
    "if p_value <= alpha:\n",
    "  hypothesis_testing = pd.DataFrame({\n",
    "    'Result': [f'Reject the null hypothesis (p-value <= {alpha}). There is a significant difference between the means of the two groups.']\n",
    "  })\n",
    "  print(f'Reject the null hypothesis (p-value <= {alpha}). There is a significant difference between the means of the two groups.')\n",
    "else:\n",
    "  hypothesis_testing = pd.DataFrame({\n",
    "    'Result': [f'Fail to reject the null hypothesis (p-value > {alpha}). There is no significant difference between the means of the two groups.']\n",
    "  })\n",
    "  print(f'Fail to reject the null hypothesis (p-value > {alpha}). There is no significant difference between the means of the two groups.')\n",
    "\n",
    "# Save the results to an Excel file\n",
    "with pd.ExcelWriter('mann_whitney_test_results.xlsx') as writer:\n",
    "  ranks.to_excel(writer, sheet_name='Ranks', index=False)\n",
    "  test_statistics.to_excel(writer, sheet_name='Test Statistics', index=False)\n",
    "  hypothesis_testing.to_excel(writer, sheet_name='Hypothesis Testing', index=False)\n",
    "\n",
    "print('Read file mann_whitney_test_results.xlsx')"
   ]
  },
  {
   "cell_type": "markdown",
   "metadata": {},
   "source": [
    "# 7.4 Paired-sample T-test\n",
    "1 biến định tính, 1 biến định lượng. So sánh trị trung bình của 2 nhóm tổng thể riêng biệt trong biến định tính và có đặc điểm là mỗi phần tử quan sát trong tổng thể này có sự tương đồng theo cặp với 1 phần tử ở tổng thể bên kia"
   ]
  },
  {
   "cell_type": "markdown",
   "metadata": {},
   "source": [
    "Data khảo sát đậu phộng trước và sau khi cải tiến, spban - Sản phẩm trước cải tiến, spthu - Sản phẩm sau cải tiến. Kiểm định sản phẩm trước cải tiến và sau cải tiến sản phẩm nào người tiêu dùng yêu thích hơn."
   ]
  },
  {
   "cell_type": "code",
   "execution_count": 16,
   "metadata": {},
   "outputs": [],
   "source": [
    "# File path to your .sav file\n",
    "file_path = \"/Users/tanhpuh/Documents/GitHub/codev2/code/Python/lean/Data SPSS/Dau phong.csv\"\n",
    "\n",
    "# Read the SPSS file\n",
    "df_dauphong = pd.read_csv(file_path)"
   ]
  },
  {
   "cell_type": "code",
   "execution_count": 17,
   "metadata": {},
   "outputs": [],
   "source": [
    "# Input data\n",
    "data = df_dauphong\n",
    "x = data['spban']\n",
    "y = data['spthu']\n",
    "confidence_interval = 0.95\n",
    "z_value = norm.ppf((1 + confidence_interval) / 2)\n",
    "alpha = round(1 - confidence_interval, 3)"
   ]
  },
  {
   "cell_type": "code",
   "execution_count": 18,
   "metadata": {},
   "outputs": [
    {
     "name": "stdout",
     "output_type": "stream",
     "text": [
      "Paired Samples Statistics:\n",
      "       Mean   N  Std. Deviation  Std. Error Mean\n",
      "spban   7.2  20        0.833509         0.186378\n",
      "spthu   7.8  20        1.399248         0.312881\n",
      "Paired Samples Correlation:\n",
      "    N  Correlation      Sig.\n",
      "0  20     0.532505  0.035809\n",
      "Paired Samples T-Test Results:\n",
      "   Mean  Std. Deviation  Std. Error Mean         t  df  Sig. (2-tailed)  \\\n",
      "0  -0.6        0.833509         0.186378 -2.259309  19         0.035809   \n",
      "\n",
      "   95.0% Confidence Interval of the Difference (Lower)  \\\n",
      "0                                          -0.965295     \n",
      "\n",
      "   95.0% Confidence Interval of the Difference (Upper)  \n",
      "0                                          -0.234705    \n",
      "Reject the null hypothesis (p-value <= 0.05)\n",
      "The mean of spthu (7.8) is greater than the mean of spban (7.2) with a mean difference of 0.5999999999999996.\n",
      "Read file paired_sample_t_test_results.xlsx\n"
     ]
    }
   ],
   "source": [
    "# Perform paired-sample T-test\n",
    "t_stat, p_value = ttest_rel(x, y)\n",
    "\n",
    "# Calculate the mean difference and standard error\n",
    "mean_diff = x.mean() - y.mean()\n",
    "std_err = x.std() / (len(data) ** 0.5)\n",
    "\n",
    "# Calculate confidence intervals\n",
    "ci_lower = mean_diff - z_value * std_err\n",
    "ci_upper = mean_diff + z_value * std_err\n",
    "\n",
    "# Create the paired samples statistics table\n",
    "paired_samples_statistics = pd.DataFrame({\n",
    "  'Mean': [x.mean(), y.mean()],\n",
    "  'N': [len(x), len(y)],\n",
    "  'Std. Deviation': [x.std(), y.std()],\n",
    "  'Std. Error Mean': [x.sem(), y.sem()]\n",
    "}, index=['spban', 'spthu'])\n",
    "print('Paired Samples Statistics:')\n",
    "print(paired_samples_statistics)\n",
    "\n",
    "# Create the paired samples correlation table\n",
    "paired_samples_correlation = pd.DataFrame({\n",
    "  'N': [len(data)],\n",
    "  'Correlation': [x.corr(y)],\n",
    "  'Sig.': [p_value]\n",
    "})\n",
    "print('Paired Samples Correlation:')\n",
    "print(paired_samples_correlation)\n",
    "\n",
    "# Create the paired samples test table\n",
    "paired_samples_test = pd.DataFrame({\n",
    "  'Mean': [mean_diff],\n",
    "  'Std. Deviation': [x.std()],\n",
    "  'Std. Error Mean': [std_err],\n",
    "  't': [t_stat],\n",
    "  'df': [len(data) - 1],\n",
    "  'Sig. (2-tailed)': [p_value],\n",
    "  f'{round(confidence_interval*100, 1)}% Confidence Interval of the Difference (Lower)': [ci_lower],\n",
    "  f'{round(confidence_interval*100, 1)}% Confidence Interval of the Difference (Upper)': [ci_upper]\n",
    "})\n",
    "print('Paired Samples T-Test Results:')\n",
    "print(paired_samples_test)\n",
    "\n",
    "# Test the p-value\n",
    "if p_value < alpha:\n",
    "  hypothesis_testing = pd.DataFrame({\n",
    "    'Result': [f'Reject the null hypothesis (p-value <= {alpha})'],\n",
    "    'Conclusion': [f\"The mean of {y.name} ({y.mean()}) is greater than the mean of {x.name} ({x.mean()}) with a mean difference of {-mean_diff}.\"]\n",
    "  })\n",
    "  print(f'Reject the null hypothesis (p-value <= {alpha})')\n",
    "  print(f\"The mean of {y.name} ({y.mean()}) is greater than the mean of {x.name} ({x.mean()}) with a mean difference of {-mean_diff}.\")\n",
    "else:\n",
    "  hypothesis_testing = pd.DataFrame({\n",
    "    'Result': [f'Fail to reject the null hypothesis (p-value > {alpha})'],\n",
    "    'Conclusion': [f\"The mean of {y.name} ({y.mean()}) is no significant difference with the mean of {x.name} ({x.mean()})\"]\n",
    "  })\n",
    "  print(f'Fail to reject the null hypothesis (p-value > {alpha})')\n",
    "  print(f\"The mean of {y.name} ({y.mean()}) is no significant difference with the mean of {x.name} ({x.mean()})\")\n",
    "\n",
    "# Save the results to an Excel file\n",
    "with pd.ExcelWriter('paired_sample_t_test_results.xlsx') as writer:\n",
    "  paired_samples_statistics.to_excel(writer, sheet_name='Paired Samples Statistics', index=True)\n",
    "  paired_samples_correlation.to_excel(writer, sheet_name='Paired Samples Correlation', index=False)\n",
    "  paired_samples_test.to_excel(writer, sheet_name='Paired Samples Test', index=False)\n",
    "  hypothesis_testing.to_excel(writer, sheet_name='Hypothesis Testing', index=False)\n",
    "  \n",
    "print('Read file paired_sample_t_test_results.xlsx')  "
   ]
  },
  {
   "cell_type": "markdown",
   "metadata": {},
   "source": [
    "# 7.5 One - Way ANOVA\n",
    "1 biến định tính, 1 biến định lượng. So sánh trị trung bình của n nhóm tổng thể riêng biệt trong 1 biến định tính."
   ]
  },
  {
   "cell_type": "markdown",
   "metadata": {},
   "source": [
    "Kiểm định đánh giá tầm quan trọng của yếu tố \"có tự do cá nhân\" - c36.6 (thang đo 7 điểm) đối với cuộc sống của con người có học vấn khác nhau - nhomhv (1 - cấp 1-2, 2 - cấp 3-THCN, 3 - CĐ-SVĐH, 4 - Tốt nghiệp ĐH)"
   ]
  },
  {
   "cell_type": "markdown",
   "metadata": {},
   "source": [
    "**Input Test Value**"
   ]
  },
  {
   "cell_type": "code",
   "execution_count": 19,
   "metadata": {},
   "outputs": [],
   "source": [
    "# Input data\n",
    "data = df[['c36.6', 'hocvan4n']]\n",
    "x = data['c36.6'] #quantitative data\n",
    "y = data['hocvan4n'] #qualitative data\n",
    "confidence_interval = 0.9\n",
    "z_value = norm.ppf((1 + confidence_interval) / 2)\n",
    "alpha = round(1 - confidence_interval, 3)"
   ]
  },
  {
   "cell_type": "markdown",
   "metadata": {},
   "source": [
    "**Kolmogorov-Smirnow test to see if the data is normally distributed:**\n",
    "- If the data is normal distribution, use Independent Samples T-Test.\n",
    "- If the data is not normal distribution, use Mann-Whitney test."
   ]
  },
  {
   "cell_type": "code",
   "execution_count": 20,
   "metadata": {},
   "outputs": [
    {
     "name": "stdout",
     "output_type": "stream",
     "text": [
      "Kolmogorov-Smirnov Test Results:\n",
      "  Variable  KS Statistic       p-value  alpha  \\\n",
      "0    c36.6      0.142219  2.751206e-09    0.1   \n",
      "\n",
      "                                              Result  \n",
      "0  Reject the null hypothesis (data does not foll...  \n",
      "Reject the null hypothesis (data does not follow normal distribution - Use Kruskal-Wallis)\n",
      "Read file one_way_anova_ks_test_results.xlsx\n"
     ]
    }
   ],
   "source": [
    "# Perform the Kolmogorov-Smirnov test for normality on 'x'\n",
    "ks_statistic, p_value = kstest(x, 'norm', args=(x.mean(), x.std()))\n",
    "\n",
    "# Create the Kolmogorov-Smirnov test results table\n",
    "ks_test_results = pd.DataFrame({\n",
    "  'Variable': [x.name],\n",
    "  'KS Statistic': [ks_statistic],\n",
    "  'p-value': [p_value],\n",
    "  'alpha': [alpha],\n",
    "  'Result': [f'Reject the null hypothesis (data does not follow normal distribution)' if p_value <= alpha else 'Fail to reject the null hypothesis (data follows normal distribution)']\n",
    "})\n",
    "print('Kolmogorov-Smirnov Test Results:')\n",
    "print(ks_test_results)\n",
    "\n",
    "# Print the results\n",
    "if p_value <= alpha:\n",
    "  print('Reject the null hypothesis (data does not follow normal distribution - Use Kruskal-Wallis)')\n",
    "else:\n",
    "  print('Fail to reject the null hypothesis (data follows normal distribution - Use One-Way Anova)')\n",
    "\n",
    "# Save the results to an Excel file\n",
    "ks_test_results.to_excel('one_way_anova_ks_test_results.xlsx', sheet_name='KS Test Results', index=False)\n",
    "\n",
    "print('Read file one_way_anova_ks_test_results.xlsx')"
   ]
  },
  {
   "cell_type": "markdown",
   "metadata": {},
   "source": [
    "**One - Way Anova**"
   ]
  },
  {
   "cell_type": "code",
   "execution_count": 21,
   "metadata": {
    "vscode": {
     "languageId": "ruby"
    }
   },
   "outputs": [
    {
     "name": "stdout",
     "output_type": "stream",
     "text": [
      "Descriptive Statistics:\n",
      "   hocvan4n  count      mean       std  min  max   std_err  90.0% CI Lower  \\\n",
      "0         1     60  5.433333  1.293618    2    7  0.167005        5.158634   \n",
      "1         2    215  5.181395  1.390767    1    7  0.094849        5.025382   \n",
      "2         3     91  5.362637  1.501973    2    7  0.157450        5.103656   \n",
      "3         4    134  4.970149  1.392463    1    7  0.120290        4.772289   \n",
      "\n",
      "   90.0% CI Upper  \n",
      "0        5.708033  \n",
      "1        5.337409  \n",
      "2        5.621619  \n",
      "3        5.168009  \n",
      "Homogeneity of Variances:\n",
      "                 Test  Statistic  p-value  alpha  \\\n",
      "0  Levene's Statistic   1.062487  0.36463    0.1   \n",
      "\n",
      "                                              Result  \n",
      "0  Fail to reject the null hypothesis (variances ...  \n",
      "One-way ANOVA Test:\n",
      "           Source  Sum of Squares     df  Mean Square         F      Sig.\n",
      "0  Between Groups       12.755521    3.0     4.251840  2.166159  0.091142\n",
      "1   Within Groups      973.572479  496.0     1.962848       NaN       NaN\n",
      "Reject the null hypothesis (p-value <= 0.1). There is a significant difference between the means of the groups.\n"
     ]
    },
    {
     "name": "stderr",
     "output_type": "stream",
     "text": [
      "/var/folders/90/0lwzz7y107b9zlcpf99xnks80000gn/T/ipykernel_46462/4233673736.py:34: FutureWarning: Series.__getitem__ treating keys as positions is deprecated. In a future version, integer keys will always be treated as labels (consistent with DataFrame behavior). To access a value by position, use `ser.iloc[pos]`\n",
      "  'Sum of Squares': [anova_table['sum_sq'][0], anova_table['sum_sq'][1]],\n",
      "/var/folders/90/0lwzz7y107b9zlcpf99xnks80000gn/T/ipykernel_46462/4233673736.py:35: FutureWarning: Series.__getitem__ treating keys as positions is deprecated. In a future version, integer keys will always be treated as labels (consistent with DataFrame behavior). To access a value by position, use `ser.iloc[pos]`\n",
      "  'df': [anova_table['df'][0], anova_table['df'][1]],\n",
      "/var/folders/90/0lwzz7y107b9zlcpf99xnks80000gn/T/ipykernel_46462/4233673736.py:36: FutureWarning: Series.__getitem__ treating keys as positions is deprecated. In a future version, integer keys will always be treated as labels (consistent with DataFrame behavior). To access a value by position, use `ser.iloc[pos]`\n",
      "  'Mean Square': [anova_table['sum_sq'][0] / anova_table['df'][0], anova_table['sum_sq'][1] / anova_table['df'][1]],\n",
      "/var/folders/90/0lwzz7y107b9zlcpf99xnks80000gn/T/ipykernel_46462/4233673736.py:37: FutureWarning: Series.__getitem__ treating keys as positions is deprecated. In a future version, integer keys will always be treated as labels (consistent with DataFrame behavior). To access a value by position, use `ser.iloc[pos]`\n",
      "  'F': [anova_table['F'][0], None],\n",
      "/var/folders/90/0lwzz7y107b9zlcpf99xnks80000gn/T/ipykernel_46462/4233673736.py:38: FutureWarning: Series.__getitem__ treating keys as positions is deprecated. In a future version, integer keys will always be treated as labels (consistent with DataFrame behavior). To access a value by position, use `ser.iloc[pos]`\n",
      "  'Sig.': [anova_table['PR(>F)'][0], None]\n",
      "/var/folders/90/0lwzz7y107b9zlcpf99xnks80000gn/T/ipykernel_46462/4233673736.py:74: FutureWarning: \n",
      "\n",
      "The `ci` parameter is deprecated. Use `errorbar=None` for the same effect.\n",
      "\n",
      "  bar_plot = sns.barplot(x=f'{y.name}', y='mean', data=descriptives, ci=None)\n"
     ]
    },
    {
     "data": {
      "image/png": "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",
      "text/plain": [
       "<Figure size 1000x600 with 1 Axes>"
      ]
     },
     "metadata": {},
     "output_type": "display_data"
    }
   ],
   "source": [
    "# Perform one-way ANOVA\n",
    "formula = 'x ~ C(y)'\n",
    "# Fit the model\n",
    "model = ols(formula, data=df).fit()\n",
    "# Perform the ANOVA\n",
    "anova_table = sm.stats.anova_lm(model, typ=2)\n",
    "\n",
    "# model = ols('x ~ C(y)', data=df).fit()\n",
    "# anova_table = sm.stats.anova_lm(model, typ=2)\n",
    "\n",
    "# Descriptive statistics\n",
    "descriptives = df.groupby(f'{y.name}')[f'{x.name}'].agg(['count', 'mean', 'std', 'min', 'max']).reset_index()\n",
    "descriptives['std_err'] = descriptives['std'] / descriptives['count']**0.5\n",
    "descriptives[f'{round(confidence_interval*100,0)}% CI Lower'] = descriptives['mean'] - z_value * descriptives['std_err']\n",
    "descriptives[f'{round(confidence_interval*100,0)}% CI Upper'] = descriptives['mean'] + z_value * descriptives['std_err']\n",
    "print('Descriptive Statistics:')\n",
    "print(descriptives)\n",
    "\n",
    "# Levene's Test for Homogeneity of Variances\n",
    "levene_stat, levene_p = levene(*[group[f'{x.name}'].values for name, group in df.groupby(f'{y.name}')])\n",
    "homogeneity_of_variances = pd.DataFrame({\n",
    "  'Test': [\"Levene's Statistic\"],\n",
    "  'Statistic': [levene_stat],\n",
    "  'p-value': [levene_p],\n",
    "  'alpha': [alpha],\n",
    "  'Result': ['Reject the null hypothesis (variances are not equal)' if levene_p <= alpha else 'Fail to reject the null hypothesis (variances are equal)']\n",
    "})\n",
    "print('Homogeneity of Variances:')\n",
    "print(homogeneity_of_variances)\n",
    "\n",
    "# ANOVA table\n",
    "anova_results = pd.DataFrame({\n",
    "  'Source': ['Between Groups', 'Within Groups'],\n",
    "  'Sum of Squares': [anova_table['sum_sq'][0], anova_table['sum_sq'][1]],\n",
    "  'df': [anova_table['df'][0], anova_table['df'][1]],\n",
    "  'Mean Square': [anova_table['sum_sq'][0] / anova_table['df'][0], anova_table['sum_sq'][1] / anova_table['df'][1]],\n",
    "  'F': [anova_table['F'][0], None],\n",
    "  'Sig.': [anova_table['PR(>F)'][0], None]\n",
    "})\n",
    "# Print the ANOVA table to inspect its structure\n",
    "print('One-way ANOVA Test:')\n",
    "print(anova_results)\n",
    "\n",
    "# Welch's ANOVA\n",
    "welch_anova = pg.welch_anova(dv=f'{x.name}', between=f'{y.name}', data=data)\n",
    "p_value_welch = welch_anova['p-unc'].values[0]\n",
    "# Điều chỉnh giá trị p bằng Bonferroni\n",
    "welch_anova['p-corr'] = pg.multicomp(welch_anova['p-unc'].values, method='bonferroni')[1]\n",
    "\n",
    "# Test the p-value\n",
    "if levene_p < alpha and p_value_welch < alpha:\n",
    "  hypothesis_testing = pd.DataFrame({\n",
    "    'Result': [f'Reject the null hypothesis (p-value <= {alpha}). There is a significant difference between the means of the groups.']\n",
    "  })\n",
    "  print(f'Reject the null hypothesis (p-value <= {alpha}). There is a significant difference between the means of the groups.')\n",
    "elif levene_p < alpha and p_value_welch >= alpha:\n",
    "  hypothesis_testing = pd.DataFrame({\n",
    "    'Result': [f'Fail to reject the null hypothesis (p-value > {alpha}). There is no significant difference between the means of the groups.']\n",
    "  })\n",
    "  print(f'Fail to reject the null hypothesis (p-value > {alpha}). There is no significant difference between the means of the groups.')\n",
    "elif levene_p >= alpha and p_value < alpha:\n",
    "  hypothesis_testing = pd.DataFrame({\n",
    "    'Result': [f'Reject the null hypothesis (p-value <= {alpha}). There is a significant difference between the means of the groups.']\n",
    "  })\n",
    "  print(f'Reject the null hypothesis (p-value <= {alpha}). There is a significant difference between the means of the groups.')\n",
    "else:\n",
    "  hypothesis_testing = pd.DataFrame({\n",
    "    'Result': [f'Fail to reject the null hypothesis (p-value > {alpha}). There is no significant difference between the means of the groups.']\n",
    "  })\n",
    "  print(f'Fail to reject the null hypothesis (p-value > {alpha}). There is no significant difference between the means of the groups.')\n",
    "\n",
    "# Create a bar plot for the means of the groups\n",
    "plt.figure(figsize=(10, 6))\n",
    "bar_plot = sns.barplot(x=f'{y.name}', y='mean', data=descriptives, ci=None)\n",
    "\n",
    "# Add labels and title\n",
    "plt.xlabel(f'{y.name}')\n",
    "plt.ylabel(f'Mean of {x.name}')\n",
    "plt.title(f'Mean of {x.name} by {y.name} Groups with {round(confidence_interval*100,0)}% Confidence Intervals')\n",
    "\n",
    "# Annotate each bar with the mean value\n",
    "for index, row in descriptives.iterrows():\n",
    "  bar_plot.annotate(f'{row[\"mean\"]:.2f}', \n",
    "            xy=(index, row['mean']), \n",
    "            xytext=(0, 3), \n",
    "            textcoords='offset points', \n",
    "            ha='center', \n",
    "            va='bottom')\n",
    "\n",
    "# Save the plot as an image file\n",
    "plt.savefig('bar_plot_1_way_anova.png')\n",
    "\n",
    "# Show the plot\n",
    "plt.show()\n",
    "\n",
    "# Save the results to an Excel file\n",
    "with pd.ExcelWriter('one_way_anova_results.xlsx') as writer:\n",
    "  descriptives.to_excel(writer, sheet_name='Descriptives', index=False)\n",
    "  homogeneity_of_variances.to_excel(writer, sheet_name='Levene’s Test', index=False)\n",
    "  anova_results.to_excel(writer, sheet_name='ANOVA', index=False)\n",
    "  welch_anova.to_excel(writer, sheet_name='Welch One-Way ANOVA', index=False)\n",
    "  hypothesis_testing.to_excel(writer, sheet_name='Hypothesis Testing', index=False)\n",
    "  \n",
    "  # Access the XlsxWriter workbook and worksheet objects\n",
    "  workbook  = writer.book\n",
    "  worksheet = workbook.add_worksheet('Means Plot Chart')\n",
    "  \n",
    "  # Insert the image into the worksheet\n",
    "  worksheet.insert_image('A1', 'bar_plot_1_way_anova.png')"
   ]
  },
  {
   "cell_type": "markdown",
   "metadata": {},
   "source": [
    "**Kruskal-Wallis Test**"
   ]
  },
  {
   "cell_type": "code",
   "execution_count": 22,
   "metadata": {},
   "outputs": [
    {
     "name": "stdout",
     "output_type": "stream",
     "text": [
      "Descriptive Statistics:\n",
      "   hocvan4n  count      mean       std  min  max   std_err  90% CI Lower  \\\n",
      "0         1     60  5.433333  1.293618    2    7  0.167005      5.158634   \n",
      "1         2    215  5.181395  1.390767    1    7  0.094849      5.025382   \n",
      "2         3     91  5.362637  1.501973    2    7  0.157450      5.103656   \n",
      "3         4    134  4.970149  1.392463    1    7  0.120290      4.772289   \n",
      "\n",
      "   90% CI Upper  \n",
      "0      5.708033  \n",
      "1      5.337409  \n",
      "2      5.621619  \n",
      "3      5.168009  \n",
      "Ranks:\n",
      "   hocvan4n    N   Mean_Rank  Sum_of_Ranks\n",
      "0         1   60  274.058333       16443.5\n",
      "1         2  215  249.697674       53685.0\n",
      "2         3   91  270.010989       24571.0\n",
      "3         4  134  227.988806       30550.5\n",
      "Kruskal-Wallis Test Results:\n",
      "   Kruskal-Wallis H   p-value  alpha  \\\n",
      "0           6.83138  0.077471    0.1   \n",
      "\n",
      "                                          Result  \n",
      "0  Reject the null hypothesis (p-value <= alpha)  \n",
      "Reject the null hypothesis (p-value <= 0.1). There is a significant difference between the means of the groups.\n",
      "Read file one_way_anova_kruskal_wallis_test_results.xlsx\n"
     ]
    }
   ],
   "source": [
    "# Perform Kruskal-Wallis H-test\n",
    "kruskal_stat, kruskal_p = kruskal(*[group[f'{x.name}'].values for name, group in df.groupby(f'{y.name}')])\n",
    "\n",
    "# Descriptive statistics\n",
    "descriptive_stats = df.groupby(f'{y.name}')[f'{x.name}'].agg(['count', 'mean', 'std', 'min', 'max']).reset_index()\n",
    "descriptive_stats['std_err'] = descriptive_stats['std'] / descriptive_stats['count']**0.5\n",
    "descriptive_stats[f'{round(confidence_interval*100)}% CI Lower'] = descriptive_stats['mean'] - z_value * descriptive_stats['std_err']\n",
    "descriptive_stats[f'{round(confidence_interval*100)}% CI Upper'] = descriptive_stats['mean'] + z_value * descriptive_stats['std_err']\n",
    "print('Descriptive Statistics:')\n",
    "print(descriptive_stats)\n",
    "\n",
    "# Ranks\n",
    "ranks = df[[f'{y.name}', f'{x.name}']].copy()\n",
    "ranks['rank'] = ranks[f'{x.name}'].rank()\n",
    "ranks_summary = ranks.groupby(f'{y.name}').agg(\n",
    "  N=(f'{y.name}', 'size'),\n",
    "  Mean_Rank=('rank', 'mean'),\n",
    "  Sum_of_Ranks=('rank', 'sum')\n",
    ").reset_index()\n",
    "print('Ranks:')\n",
    "print(ranks_summary)\n",
    "\n",
    "# Test statistics\n",
    "test_statistics = pd.DataFrame({\n",
    "  'Kruskal-Wallis H': [kruskal_stat],\n",
    "  'p-value': [kruskal_p],\n",
    "  'alpha': [alpha],\n",
    "  'Result': ['Reject the null hypothesis (p-value <= alpha)' if kruskal_p <= alpha else 'Fail to reject the null hypothesis (p-value > alpha)']\n",
    "})\n",
    "print('Kruskal-Wallis Test Results:')\n",
    "print(test_statistics)\n",
    "\n",
    "if kruskal_p <= alpha:\n",
    "  hypothesis_testing = pd.DataFrame({\n",
    "    'Result': [f'Reject the null hypothesis (p-value <= {alpha}). There is a significant difference between the means of the groups.']\n",
    "  })\n",
    "  print(f'Reject the null hypothesis (p-value <= {alpha}). There is a significant difference between the means of the groups.')\n",
    "else:\n",
    "  hypothesis_testing = pd.DataFrame({\n",
    "    'Result': [f'Fail to reject the null hypothesis (p-value > {alpha}). There is no significant difference between the means of the groups.']\n",
    "  })\n",
    "  print(f'Fail to reject the null hypothesis (p-value > {alpha}). There is no significant difference between the means of the groups.')\n",
    "\n",
    "# Save the results to an Excel file\n",
    "with pd.ExcelWriter('one_way_anova_kruskal_wallis_test_results.xlsx') as writer:\n",
    "  descriptive_stats.to_excel(writer, sheet_name='Descriptive Statistics', index=False)\n",
    "  ranks_summary.to_excel(writer, sheet_name='Ranks', index=False)\n",
    "  test_statistics.to_excel(writer, sheet_name='Test Statistics', index=False)\n",
    "  hypothesis_testing.to_excel(writer, sheet_name='Hypothesis Testing', index=False)\n",
    "  \n",
    "print('Read file one_way_anova_kruskal_wallis_test_results.xlsx')"
   ]
  },
  {
   "cell_type": "markdown",
   "metadata": {},
   "source": [
    "**Dunn's Test**\n",
    "- Tìm điểm khác biệt của các yếu tố"
   ]
  },
  {
   "cell_type": "code",
   "execution_count": 23,
   "metadata": {},
   "outputs": [
    {
     "name": "stdout",
     "output_type": "stream",
     "text": [
      "Dunn's Test Results:\n",
      "   Group1  Group2  Test Statistic   p-value  Corrected p-value  Reject\n",
      "0       1       2        1.154793  0.248175           1.000000   False\n",
      "1       1       3        0.168448  0.866231           1.000000   False\n",
      "2       1       4        2.052710  0.040101           0.240604    True\n",
      "3       2       3       -1.124208  0.260925           1.000000   False\n",
      "4       2       4        1.365158  0.172203           1.000000   False\n",
      "5       3       4        2.141151  0.032262           0.193571    True\n",
      "Significant groups found:\n",
      "   Group1  Group2  Test Statistic   p-value  Corrected p-value  Reject\n",
      "2       1       4        2.052710  0.040101           0.240604    True\n",
      "5       3       4        2.141151  0.032262           0.193571    True\n",
      "Read file one_way_anova_dunn_test_results.xlsx\n"
     ]
    }
   ],
   "source": [
    "# Function to perform Dunn's Test\n",
    "def dunn_test(x, y, alpha=0.05):\n",
    "  # Rank the data\n",
    "  ranked_data = rankdata(x)\n",
    "  \n",
    "  # Get unique groups\n",
    "  groups = np.unique(y)\n",
    "  \n",
    "  # Calculate the sum of ranks for each group\n",
    "  sum_ranks = {group: np.sum(ranked_data[y == group]) for group in groups}\n",
    "  \n",
    "  # Calculate the number of observations for each group\n",
    "  n = {group: np.sum(y == group) for group in groups}\n",
    "  \n",
    "  # Calculate the total number of observations\n",
    "  N = len(x)\n",
    "  \n",
    "  # Calculate the mean rank for each group\n",
    "  mean_ranks = {group: sum_ranks[group] / n[group] for group in groups}\n",
    "  \n",
    "  # Calculate the overall mean rank\n",
    "  overall_mean_rank = np.mean(ranked_data)\n",
    "  \n",
    "  # Calculate the test statistic for each pair of groups\n",
    "  test_statistics = {}\n",
    "  for i, group1 in enumerate(groups):\n",
    "    for group2 in groups[i+1:]:\n",
    "      test_stat = (mean_ranks[group1] - mean_ranks[group2]) / np.sqrt((N * (N + 1)) / 12 * (1 / n[group1] + 1 / n[group2]))\n",
    "      test_statistics[(group1, group2)] = test_stat\n",
    "  \n",
    "  # Calculate the p-values for each pair of groups\n",
    "  p_values = {pair: 2 * (1 - norm.cdf(np.abs(test_stat))) for pair, test_stat in test_statistics.items()}\n",
    "  \n",
    "  # Apply Bonferroni correction\n",
    "  corrected_p_values = {pair: min(p * len(p_values), 1) for pair, p in p_values.items()}\n",
    "  \n",
    "  # Determine if the null hypothesis is rejected for each pair of groups\n",
    "  reject_null = {pair: p <= alpha for pair, p in p_values.items()}\n",
    "  \n",
    "  # Create a DataFrame to store the results\n",
    "  dunn_test_results = pd.DataFrame({\n",
    "    'Group1': [pair[0] for pair in test_statistics.keys()],\n",
    "    'Group2': [pair[1] for pair in test_statistics.keys()],\n",
    "    'Test Statistic': list(test_statistics.values()),\n",
    "    'p-value': list(p_values.values()),\n",
    "    'Corrected p-value': list(corrected_p_values.values()),\n",
    "    'Reject': list(reject_null.values())\n",
    "  })\n",
    "  \n",
    "  return dunn_test_results\n",
    "\n",
    "# Perform Dunn's Test\n",
    "dunn_test_results = dunn_test(x, y, alpha=alpha)\n",
    "\n",
    "# Print the results\n",
    "print('Dunn\\'s Test Results:')\n",
    "print(dunn_test_results)\n",
    "\n",
    "# Check which groups have a significant difference\n",
    "significant_results = dunn_test_results[dunn_test_results['Reject'] == True]\n",
    "\n",
    "# Print the significant groups\n",
    "if not significant_results.empty:\n",
    "  tukey_conclusion = pd.DataFrame({\n",
    "    'Significant Groups': [significant_results]\n",
    "  })\n",
    "  print(\"Significant groups found:\")\n",
    "  print(significant_results)\n",
    "else:\n",
    "  tukey_conclusion = pd.DataFrame({\n",
    "    'Conclusion': ['No significant groups found. There is no significant difference between the groups.']\n",
    "  })\n",
    "  print(\"No significant groups found. There is no significant difference between the groups.\")\n",
    "\n",
    "# Save the results to an Excel file\n",
    "with pd.ExcelWriter('one_way_anova_dunn_test_results.xlsx') as writer:\n",
    "  dunn_test_results.to_excel(writer, sheet_name='Dunn\\'s Test Results', index=False)\n",
    "  significant_results.to_excel(writer, sheet_name='Conclusion', index=False)\n",
    "\n",
    "print('Read file one_way_anova_dunn_test_results.xlsx')"
   ]
  },
  {
   "cell_type": "markdown",
   "metadata": {},
   "source": [
    "**Tukey Test**\n",
    "- Tìm điểm khác biệt của các yếu tố"
   ]
  },
  {
   "cell_type": "code",
   "execution_count": 24,
   "metadata": {},
   "outputs": [
    {
     "name": "stdout",
     "output_type": "stream",
     "text": [
      "Tukey Test Result:\n",
      "Multiple Comparison of Means - Tukey HSD, FWER=0.10\n",
      "===================================================\n",
      "group1 group2 meandiff p-adj   lower  upper  reject\n",
      "---------------------------------------------------\n",
      "     1      2  -0.2519  0.607 -0.7219  0.218  False\n",
      "     1      3  -0.0707 0.9903  -0.606 0.4646  False\n",
      "     1      4  -0.4632 0.1455 -0.9632 0.0368  False\n",
      "     2      3   0.1812 0.7293 -0.2213 0.5838  False\n",
      "     2      4  -0.2112 0.5189 -0.5655  0.143  False\n",
      "     3      4  -0.3925  0.167 -0.8297 0.0447  False\n",
      "---------------------------------------------------\n",
      "No significant groups found. There is no significant difference between the groups.\n",
      "Read file one_way_anova_tukey_hsd_test_results.xlsx\n"
     ]
    }
   ],
   "source": [
    "# Perform Tukey's HSD test\n",
    "tukey_result = pairwise_tukeyhsd(endog=x, groups=y, alpha=alpha)\n",
    "\n",
    "# Convert the result to a DataFrame for better readability\n",
    "tukey_result_df = pd.DataFrame(data=tukey_result.summary().data[1:], columns=tukey_result.summary().data[0])\n",
    "print('Tukey Test Result:')\n",
    "print(tukey_result)\n",
    "\n",
    "# Check which groups have a significant difference\n",
    "significant_groups = tukey_result_df[tukey_result_df['p-adj'] == True]\n",
    "\n",
    "# Print the significant groups\n",
    "if not significant_groups.empty:\n",
    "  tukey_conclusion = pd.DataFrame({\n",
    "    'Significant Groups': [significant_groups]\n",
    "  })\n",
    "  print(significant_groups)\n",
    "  print(\"Significant groups found:\")\n",
    "else:\n",
    "  tukey_conclusion = pd.DataFrame({\n",
    "    'Conclusion': ['No significant groups found. There is no significant difference between the groups.']\n",
    "  })\n",
    "  print(\"No significant groups found. There is no significant difference between the groups.\")\n",
    "\n",
    "# Save the results to an Excel file\n",
    "with pd.ExcelWriter('one_way_anova_tukey_hsd_test_results.xlsx') as writer:\n",
    "  tukey_result_df.to_excel(writer, sheet_name='Tukey HSD Test Results', index=False)\n",
    "  tukey_conclusion.to_excel(writer, sheet_name='Conclusion', index=False)\n",
    "\n",
    "print('Read file one_way_anova_tukey_hsd_test_results.xlsx')"
   ]
  },
  {
   "cell_type": "markdown",
   "metadata": {},
   "source": [
    "# 7.6 Two - Way ANOVA\n",
    "n biến định tính, 1 biến định lượng. So sánh trị trung bình của n nhóm tổng thể riêng biệt trong 1 biến định tính."
   ]
  },
  {
   "cell_type": "markdown",
   "metadata": {},
   "source": [
    "Kiểm định ảnh hưởng của mức độ yêu thích ngành học - yeuthich (thang đo 3 - Thang đo thứ bậc) & thời gian tự học - tuhoc (thang đo 3 - Thang đo thứ bậc) đến kết quả học tập của sinh viên - diemtb."
   ]
  },
  {
   "cell_type": "markdown",
   "metadata": {},
   "source": [
    "**Các giả thiết H0**\n",
    "- Điểm trung bình học tập (ĐTB) của sinh viên có thời gian tự học (TGTH) khác nhau đều bằng nhau.\n",
    "- Điểm trung bình học tập (ĐTB) của sinh viên có mức độ yêu thích ngành (MĐYTN) đang học khác nhau đều bằng nhau.\n",
    "- Không có ảnh hưởng tương tác giữa TGTH và MĐYTN --> Ảnh hưởng của các nhóm trong TGTH và MĐYTN đến ĐTB là như nhau. "
   ]
  },
  {
   "cell_type": "code",
   "execution_count": 25,
   "metadata": {},
   "outputs": [],
   "source": [
    "# File path to your .sav file\n",
    "file_path = \"/Users/tanhpuh/Documents/GitHub/codev2/code/Python/lean/Data SPSS/Phan tich phuong sai 2 yeu to.csv\"\n",
    "\n",
    "# Read the SPSS file\n",
    "df_diemtb = pd.read_csv(file_path)"
   ]
  },
  {
   "cell_type": "markdown",
   "metadata": {},
   "source": [
    "**Input Test Value**"
   ]
  },
  {
   "cell_type": "code",
   "execution_count": 26,
   "metadata": {},
   "outputs": [],
   "source": [
    "# Input data\n",
    "data = df_diemtb\n",
    "y = data['diemtb'] #quantitative data dependent variable\n",
    "x1 = data['yeuthich'] #qualitative data factor\n",
    "x2 = data['tuhoc'] #qualitative data factor\n",
    "confidence_interval = 0.95\n",
    "z_value = norm.ppf((1 + confidence_interval) / 2)\n",
    "alpha = round(1 - confidence_interval, 3)"
   ]
  },
  {
   "cell_type": "markdown",
   "metadata": {},
   "source": [
    "**Kolmogorov-Smirnow test to see if the data is normally distributed:**\n",
    "- If the data is normal distribution, use Independent Samples T-Test.\n",
    "- If the data is not normal distribution, use Mann-Whitney test."
   ]
  },
  {
   "cell_type": "code",
   "execution_count": 27,
   "metadata": {},
   "outputs": [
    {
     "name": "stdout",
     "output_type": "stream",
     "text": [
      "Kolmogorov-Smirnov Test Results:\n",
      "  Variable  KS Statistic   p-value  alpha  \\\n",
      "0   diemtb      0.099884  0.523373   0.05   \n",
      "\n",
      "                                              Result  \n",
      "0  Fail to reject the null hypothesis (data follo...  \n",
      "Fail to reject the null hypothesis (data follows normal distribution - Use Two-Way Anova)\n",
      "Read file two_way_anova_ks_test_results.xlsx\n"
     ]
    }
   ],
   "source": [
    "# Perform the Kolmogorov-Smirnov test for normality on 'diemtb'\n",
    "ks_statistic, p_value = kstest(y, 'norm', args=(y.mean(), y.std()))\n",
    "\n",
    "# Create the Kolmogorov-Smirnov test results table\n",
    "ks_test_results = pd.DataFrame({\n",
    "  'Variable': ['diemtb'],\n",
    "  'KS Statistic': [ks_statistic],\n",
    "  'p-value': [p_value],\n",
    "  'alpha': [alpha],\n",
    "  'Result': ['Reject the null hypothesis (data does not follow normal distribution)' if p_value <= alpha else 'Fail to reject the null hypothesis (data follows normal distribution)']\n",
    "})\n",
    "\n",
    "print('Kolmogorov-Smirnov Test Results:')\n",
    "print(ks_test_results)\n",
    "\n",
    "# Print the results\n",
    "if p_value <= alpha:\n",
    "  print('Reject the null hypothesis (data does not follow normal distribution - Use Kruskal-Wallis)')\n",
    "else:\n",
    "  print('Fail to reject the null hypothesis (data follows normal distribution - Use Two-Way Anova)')\n",
    "\n",
    "# Save the results to an Excel file\n",
    "ks_test_results.to_excel('two_way_anova_ks_test_results.xlsx', sheet_name='KS Test Results', index=False)\n",
    "\n",
    "print('Read file two_way_anova_ks_test_results.xlsx')"
   ]
  },
  {
   "cell_type": "markdown",
   "metadata": {},
   "source": [
    "**Two - Way ANOVA**"
   ]
  },
  {
   "cell_type": "code",
   "execution_count": 28,
   "metadata": {},
   "outputs": [
    {
     "name": "stdout",
     "output_type": "stream",
     "text": [
      "Between-Subjects Factors:\n",
      "   yeuthich  tuhoc  N\n",
      "0         1      1  7\n",
      "1         1      2  7\n",
      "2         1      3  7\n",
      "3         2      1  7\n",
      "4         2      2  7\n",
      "5         2      3  7\n",
      "6         3      1  7\n",
      "7         3      2  7\n",
      "8         3      3  7\n",
      "Descriptive Statistics:\n",
      "   yeuthich  tuhoc  count      mean       std   std_err\n",
      "0         1      1      7  5.614286  0.384831  0.145453\n",
      "1         1      2      7  6.042857  0.263674  0.099659\n",
      "2         1      3      7  6.128571  0.292770  0.110657\n",
      "3         2      1      7  5.757143  0.359894  0.136027\n",
      "4         2      2      7  6.400000  0.294392  0.111270\n",
      "5         2      3      7  6.914286  0.254484  0.096186\n",
      "6         3      1      7  5.728571  0.515475  0.194831\n",
      "7         3      2      7  6.757143  0.373529  0.141181\n",
      "8         3      3      7  7.357143  0.359894  0.136027\n",
      "Levene's Test of Equality of Error Variances:\n",
      "                 Test  Statistic   p-value  alpha  \\\n",
      "0  Levene's Statistic   1.957723  0.144078   0.05   \n",
      "\n",
      "                                              Result  \n",
      "0  Fail to reject the null hypothesis (variances ...  \n",
      "Two-Way ANOVA Results:\n",
      "                sum_sq    df          F        PR(>F)  reject\n",
      "C(x1)         5.040000   2.0  20.267234  2.714542e-07    True\n",
      "C(x2)        13.020000   2.0  52.357021  2.280431e-13    True\n",
      "C(x1):C(x2)   2.245714   4.0   4.515319  3.213249e-03    True\n",
      "Residual      6.714286  54.0        NaN           NaN   False\n",
      "          Mixed Linear Model Regression Results\n",
      "=========================================================\n",
      "Model:             MixedLM  Dependent Variable:  diemtb  \n",
      "No. Observations:  63       Method:              REML    \n",
      "No. Groups:        3        Scale:               0.1188  \n",
      "Min. group size:   21       Log-Likelihood:      -28.8343\n",
      "Max. group size:   21       Converged:           Yes     \n",
      "Mean group size:   21.0                                  \n",
      "---------------------------------------------------------\n",
      "               Coef.  Std.Err.   z    P>|z| [0.025 0.975]\n",
      "---------------------------------------------------------\n",
      "Intercept       5.629    0.338 16.656 0.000  4.966  6.291\n",
      "yeuthich       -0.214    0.141 -1.523 0.128 -0.490  0.061\n",
      "tuhoc          -0.007    0.156 -0.046 0.964 -0.314  0.299\n",
      "yeuthich:tuhoc  0.279    0.065  4.277 0.000  0.151  0.406\n",
      "Group Var       0.009    0.062                           \n",
      "=========================================================\n",
      "\n",
      "Chose Two-Way ANOVA Test\n",
      "Read file two_way_anova_results.xlsx\n"
     ]
    },
    {
     "name": "stderr",
     "output_type": "stream",
     "text": [
      "/Users/tanhpuh/Documents/GitHub/codev2/.venv/lib/python3.13/site-packages/statsmodels/regression/mixed_linear_model.py:2237: ConvergenceWarning: The MLE may be on the boundary of the parameter space.\n",
      "  warnings.warn(msg, ConvergenceWarning)\n"
     ]
    }
   ],
   "source": [
    "# Create a formula for the two-way ANOVA\n",
    "formula = 'y ~ C(x1) + C(x2) + C(x1):C(x2)'\n",
    "# Fit the model\n",
    "model = ols(formula, data=data).fit()\n",
    "# Perform the ANOVA\n",
    "anova_table = sm.stats.anova_lm(model, typ=2)\n",
    "# Add 'reject' column to anova_table\n",
    "anova_table['reject'] = anova_table['PR(>F)'] < alpha\n",
    "\n",
    "# Between-Subjects Factors\n",
    "between_subjects_factors = data.groupby([f'{x1.name}', f'{x2.name}']).size().reset_index(name='N')\n",
    "print('Between-Subjects Factors:')\n",
    "print(between_subjects_factors)\n",
    "\n",
    "# Descriptive statistics\n",
    "descriptive_stats = data.groupby([f'{x1.name}', f'{x2.name}']).agg(\n",
    "  count=(f'{y.name}', 'size'),\n",
    "  mean=(f'{y.name}', 'mean'),\n",
    "  std=(f'{y.name}', 'std')\n",
    ").reset_index()\n",
    "descriptive_stats['std_err'] = descriptive_stats['std'] / np.sqrt(descriptive_stats['count'])\n",
    "print('Descriptive Statistics:')\n",
    "print(descriptive_stats)\n",
    "\n",
    "# Levene's Test for Equality of Error Variances\n",
    "levene_stat, levene_p = levene(data[f'{y.name}'], data[f'{x1.name}'], data[f'{x2.name}'])\n",
    "levene_test_results = pd.DataFrame({\n",
    "  'Test': [\"Levene's Statistic\"],\n",
    "  'Statistic': [levene_stat],\n",
    "  'p-value': [levene_p],\n",
    "  'alpha': [alpha],\n",
    "  'Result': ['Reject the null hypothesis (variances are not equal)' if levene_p <= alpha else 'Fail to reject the null hypothesis (variances are equal)']\n",
    "})\n",
    "print(\"Levene's Test of Equality of Error Variances:\")\n",
    "print(levene_test_results)\n",
    "\n",
    "# Print the ANOVA table\n",
    "print('Two-Way ANOVA Results:')\n",
    "print(anova_table)\n",
    "\n",
    "# Sử dụng Mixed-effects Model\n",
    "mixed_model = smf.mixedlm(f'{y.name} ~ {x1.name} * {x2.name}', data, groups=data[f'{x2.name}'])\n",
    "mixed_fit = mixed_model.fit()\n",
    "print(mixed_fit.summary())\n",
    "# Extract the summary table from mixed_fit\n",
    "mixed_fit_df = mixed_fit.summary().tables[1]\n",
    "# Replace empty strings with NaN and then convert to float\n",
    "mixed_fit_df['P>|z|'] = mixed_fit_df['P>|z|'].replace('', np.nan).astype(float)\n",
    "# Add a new column 'reject' based on the condition\n",
    "mixed_fit_df['reject'] = mixed_fit_df['P>|z|'] < alpha\n",
    "\n",
    "# Test the p-value\n",
    "if levene_p < alpha:\n",
    "  hypothesis_testing = pd.DataFrame({\n",
    "    'Chose Test': [f'Mixed Fit Test']\n",
    "  })\n",
    "  print('Chose Mixed Fit Test')\n",
    "else:\n",
    "  hypothesis_testing = pd.DataFrame({\n",
    "    'Chose Test': [f'Two-Way ANOVA Test']\n",
    "  })\n",
    "  print('Chose Two-Way ANOVA Test')\n",
    "\n",
    "# Save the results to an Excel file\n",
    "with pd.ExcelWriter('two_way_anova_results.xlsx') as writer:\n",
    "  between_subjects_factors.to_excel(writer, sheet_name='Between-Subjects Factors', index=False)\n",
    "  descriptive_stats.to_excel(writer, sheet_name='Descriptive Statistics', index=False)\n",
    "  levene_test_results.to_excel(writer, sheet_name=\"Levene's Test\", index=False)\n",
    "  anova_table.to_excel(writer, sheet_name='Two-way ANOVA Test', index=True)\n",
    "  mixed_fit_df.to_excel(writer, sheet_name='Mixed Fit Test', index=True)\n",
    "  hypothesis_testing.to_excel(writer, sheet_name='Hypothesis Testing', index=False)\n",
    "print('Read file two_way_anova_results.xlsx')"
   ]
  },
  {
   "cell_type": "markdown",
   "metadata": {},
   "source": [
    "**Kruskal-Wallis Test**"
   ]
  },
  {
   "cell_type": "code",
   "execution_count": 29,
   "metadata": {},
   "outputs": [
    {
     "name": "stdout",
     "output_type": "stream",
     "text": [
      "Descriptive Statistics:\n",
      "   yeuthich  tuhoc  count      mean       std   std_err  95% CI Lower  \\\n",
      "0         1      1      7  5.614286  0.384831  0.145453      5.329204   \n",
      "1         1      2      7  6.042857  0.263674  0.099659      5.847529   \n",
      "2         1      3      7  6.128571  0.292770  0.110657      5.911688   \n",
      "3         2      1      7  5.757143  0.359894  0.136027      5.490534   \n",
      "4         2      2      7  6.400000  0.294392  0.111270      6.181915   \n",
      "5         2      3      7  6.914286  0.254484  0.096186      6.725765   \n",
      "6         3      1      7  5.728571  0.515475  0.194831      5.346709   \n",
      "7         3      2      7  6.757143  0.373529  0.141181      6.480434   \n",
      "8         3      3      7  7.357143  0.359894  0.136027      7.090534   \n",
      "\n",
      "   95% CI Upper  \n",
      "0      5.899368  \n",
      "1      6.238186  \n",
      "2      6.345455  \n",
      "3      6.023751  \n",
      "4      6.618085  \n",
      "5      7.102806  \n",
      "6      6.110433  \n",
      "7      7.033852  \n",
      "8      7.623751  \n",
      "Ranks:\n",
      "   yeuthich  tuhoc  N  Mean_Rank  Sum_of_Ranks\n",
      "0         1      1  7  12.500000          87.5\n",
      "1         1      2  7  23.071429         161.5\n",
      "2         1      3  7  27.857143         195.0\n",
      "3         2      1  7  16.071429         112.5\n",
      "4         2      2  7  36.357143         254.5\n",
      "5         2      3  7  50.500000         353.5\n",
      "6         3      1  7  17.071429         119.5\n",
      "7         3      2  7  46.428571         325.0\n",
      "8         3      3  7  58.142857         407.0\n",
      "Kruskal-Wallis Test Results:\n",
      "   Kruskal-Wallis H       p-value  alpha  \\\n",
      "0         46.111006  2.264238e-07   0.05   \n",
      "\n",
      "                                          Result  \n",
      "0  Reject the null hypothesis (p-value <= alpha)  \n",
      "Reject the null hypothesis (p-value <= 0.05). There is a significant difference between the means of the groups.\n",
      "Read file two_way_anova_kruskal_wallis_test_results.xlsx\n"
     ]
    }
   ],
   "source": [
    "# Perform Kruskal-Wallis H-test\n",
    "kruskal_stat, kruskal_p = kruskal(*[group[f'{y.name}'].values for name, group in data.groupby([f'{x1.name}', f'{x2.name}'])])\n",
    "\n",
    "# Descriptive statistics\n",
    "descriptive_stats = data.groupby([f'{x1.name}', f'{x2.name}']).agg(\n",
    "  count=(f'{y.name}', 'size'),\n",
    "  mean=(f'{y.name}', 'mean'),\n",
    "  std=(f'{y.name}', 'std')\n",
    ").reset_index()\n",
    "descriptive_stats['std_err'] = descriptive_stats['std'] / descriptive_stats['count']**0.5\n",
    "descriptive_stats[f'{round(confidence_interval*100)}% CI Lower'] = descriptive_stats['mean'] - z_value * descriptive_stats['std_err']\n",
    "descriptive_stats[f'{round(confidence_interval*100)}% CI Upper'] = descriptive_stats['mean'] + z_value * descriptive_stats['std_err']\n",
    "print('Descriptive Statistics:')\n",
    "print(descriptive_stats)\n",
    "\n",
    "# Ranks\n",
    "ranks = data[[f'{x1.name}', f'{x2.name}', f'{y.name}']].copy()\n",
    "ranks['rank'] = ranks[f'{y.name}'].rank()\n",
    "ranks_summary = ranks.groupby([f'{x1.name}', f'{x2.name}']).agg(\n",
    "  N=(f'{y.name}', 'size'),\n",
    "  Mean_Rank=('rank', 'mean'),\n",
    "  Sum_of_Ranks=('rank', 'sum')\n",
    ").reset_index()\n",
    "print('Ranks:')\n",
    "print(ranks_summary)\n",
    "\n",
    "# Test statistics\n",
    "test_statistics = pd.DataFrame({\n",
    "  'Kruskal-Wallis H': [kruskal_stat],\n",
    "  'p-value': [kruskal_p],\n",
    "  'alpha': [alpha],\n",
    "  'Result': ['Reject the null hypothesis (p-value <= alpha)' if kruskal_p <= alpha else 'Fail to reject the null hypothesis (p-value > alpha)']\n",
    "})\n",
    "print('Kruskal-Wallis Test Results:')\n",
    "print(test_statistics)\n",
    "\n",
    "if kruskal_p <= alpha:\n",
    "  hypothesis_testing = pd.DataFrame({\n",
    "    'Result': [f'Reject the null hypothesis (p-value <= {alpha}). There is a significant difference between the means of the groups.']\n",
    "  })\n",
    "  print(f'Reject the null hypothesis (p-value <= {alpha}). There is a significant difference between the means of the groups.')\n",
    "else:\n",
    "  hypothesis_testing = pd.DataFrame({\n",
    "    'Result': [f'Fail to reject the null hypothesis (p-value > {alpha}). There is no significant difference between the means of the groups.']\n",
    "  })\n",
    "  print(f'Fail to reject the null hypothesis (p-value > {alpha}). There is no significant difference between the means of the groups.')\n",
    "\n",
    "# Save the results to an Excel file\n",
    "with pd.ExcelWriter('two_way_anova_kruskal_wallis_test_results.xlsx') as writer:\n",
    "  descriptive_stats.to_excel(writer, sheet_name='Descriptive Statistics', index=False)\n",
    "  ranks_summary.to_excel(writer, sheet_name='Ranks', index=False)\n",
    "  test_statistics.to_excel(writer, sheet_name='Test Statistics', index=False)\n",
    "  hypothesis_testing.to_excel(writer, sheet_name='Hypothesis Testing', index=False)\n",
    "\n",
    "print('Read file two_way_anova_kruskal_wallis_test_results.xlsx')"
   ]
  },
  {
   "cell_type": "markdown",
   "metadata": {},
   "source": [
    "**Tukey Test**\n",
    "- Tìm điểm khác biệt của các yếu tố"
   ]
  },
  {
   "cell_type": "code",
   "execution_count": 30,
   "metadata": {},
   "outputs": [
    {
     "name": "stdout",
     "output_type": "stream",
     "text": [
      "Tukey Test Result for yeuthich:\n",
      "   group1  group2  meandiff   p-adj   lower   upper  reject\n",
      "0       1       2    0.4286  0.0643 -0.0203  0.8775   False\n",
      "1       1       3    0.6857  0.0015  0.2368  1.1346    True\n",
      "2       2       3    0.2571  0.3595 -0.1917  0.7060   False\n",
      "Tukey Test Result for tuhoc:\n",
      "   group1  group2  meandiff   p-adj   lower   upper  reject\n",
      "0       1       2    0.4286  0.0643 -0.0203  0.8775   False\n",
      "1       1       3    0.6857  0.0015  0.2368  1.1346    True\n",
      "2       2       3    0.2571  0.3595 -0.1917  0.7060   False\n",
      "Read file two_way_anova_tukey_hsd_test_results.xlsx\n"
     ]
    }
   ],
   "source": [
    "# Perform Tukey's HSD test for each variable\n",
    "tukey_result_1 = pairwise_tukeyhsd(endog=y, groups=x1, alpha=alpha)\n",
    "tukey_result_2 = pairwise_tukeyhsd(endog=y, groups=x2, alpha=alpha)\n",
    "\n",
    "# Convert the results to DataFrames for better readability\n",
    "tukey_result_1_df = pd.DataFrame(data=tukey_result_1.summary().data[1:], columns=tukey_result_1.summary().data[0])\n",
    "tukey_result_2_df = pd.DataFrame(data=tukey_result_2.summary().data[1:], columns=tukey_result_2.summary().data[0])\n",
    "\n",
    "# Print the results\n",
    "print('Tukey Test Result for yeuthich:')\n",
    "print(tukey_result_1_df)\n",
    "print('Tukey Test Result for tuhoc:')\n",
    "print(tukey_result_1_df)\n",
    "\n",
    "# Save the results to an Excel file\n",
    "with pd.ExcelWriter('two_way_anova_tukey_hsd_test_results.xlsx') as writer:\n",
    "  tukey_result_1_df.to_excel(writer, sheet_name=f'Tukey HSD Test Results {x1.name}', index=False)\n",
    "  tukey_result_2_df.to_excel(writer, sheet_name=f'Tukey HSD Test Results {x2.name}', index=False)\n",
    "\n",
    "print('Read file two_way_anova_tukey_hsd_test_results.xlsx')"
   ]
  },
  {
   "cell_type": "markdown",
   "metadata": {},
   "source": [
    "**Summary for Groups of Cases**"
   ]
  },
  {
   "cell_type": "code",
   "execution_count": 31,
   "metadata": {},
   "outputs": [
    {
     "data": {
      "image/png": "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",
      "text/plain": [
       "<Figure size 1000x600 with 1 Axes>"
      ]
     },
     "metadata": {},
     "output_type": "display_data"
    },
    {
     "name": "stdout",
     "output_type": "stream",
     "text": [
      "Read file two_way_anova_tukey_hsd_test_results.xlsx\n"
     ]
    }
   ],
   "source": [
    "# Calculate the mean of diemtb grouped by x1 and x2\n",
    "mean_diemtb = data.groupby([f'{x1.name}', f'{x2.name}'])[f'{y.name}'].mean().reset_index()\n",
    "\n",
    "# Create the line plot\n",
    "plt.figure(figsize=(10, 6))\n",
    "sns.lineplot(data=mean_diemtb, x=f'{x1.name}', y=f'{y.name}', hue=f'{x2.name}', marker='o')\n",
    "\n",
    "# Add labels and title\n",
    "plt.xlabel(f'{x1.name}')\n",
    "plt.ylabel(f'Mean of {y.name}')\n",
    "plt.title(f'Line Plot of Mean {y.name} by {x1.name} and {x2.name}')\n",
    "\n",
    "# Save the plot as an image file\n",
    "plt.savefig('bar_plot_2_way_anova.png')\n",
    "\n",
    "# Show the plot\n",
    "plt.show()\n",
    "\n",
    "# Save the plot into the existing Excel file\n",
    "with pd.ExcelWriter('two_way_anova_tukey_hsd_test_results.xlsx', engine='openpyxl', mode='a') as writer:\n",
    "  # Access the openpyxl workbook and worksheet objects\n",
    "  workbook  = writer.book\n",
    "  worksheet = workbook.create_sheet('Means Plot Chart')\n",
    "  \n",
    "  # Insert the image into the worksheet\n",
    "  img = Image('bar_plot_2_way_anova.png')\n",
    "  worksheet.add_image(img, 'A1')\n",
    "\n",
    "print('Read file two_way_anova_tukey_hsd_test_results.xlsx')"
   ]
  }
 ],
 "metadata": {
  "kernelspec": {
   "display_name": ".venv",
   "language": "python",
   "name": "python3"
  },
  "language_info": {
   "codemirror_mode": {
    "name": "ipython",
    "version": 3
   },
   "file_extension": ".py",
   "mimetype": "text/x-python",
   "name": "python",
   "nbconvert_exporter": "python",
   "pygments_lexer": "ipython3",
   "version": "3.13.0"
  }
 },
 "nbformat": 4,
 "nbformat_minor": 2
}
