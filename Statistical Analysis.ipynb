{
 "cells": [
  {
   "cell_type": "markdown",
   "metadata": {},
   "source": [
    "# 1. Load Library"
   ]
  },
  {
   "cell_type": "code",
   "execution_count": 1,
   "metadata": {},
   "outputs": [],
   "source": [
    "from datetime import datetime\n",
    "import io\n",
    "import pandas as pd\n",
    "import pyreadstat\n",
    "import numpy as np\n",
    "from scipy.stats import chi2_contingency,zscore,ttest_1samp,ttest_ind,levene,kstest,mannwhitneyu,ttest_rel,norm,rankdata,kruskal,pearsonr,spearmanr\n",
    "from statsmodels.formula.api import ols\n",
    "import statsmodels.formula.api as smf\n",
    "from statsmodels.stats.multicomp import pairwise_tukeyhsd,MultiComparison\n",
    "from statsmodels.stats.multitest import multipletests\n",
    "from statsmodels.stats.libqsturng import psturng\n",
    "import statsmodels.api as sm\n",
    "import pingouin as pg\n",
    "import matplotlib.pyplot as plt\n",
    "import seaborn as sns\n",
    "import gspread\n",
    "from gspread_dataframe import set_with_dataframe\n",
    "from google.oauth2.service_account import Credentials\n",
    "from pydrive.auth import GoogleAuth\n",
    "from pydrive.drive import GoogleDrive\n",
    "import xlsxwriter\n",
    "from openpyxl.drawing.image import Image"
   ]
  },
  {
   "cell_type": "markdown",
   "metadata": {},
   "source": [
    "# 2. Load Scope Spreadsheets"
   ]
  },
  {
   "cell_type": "code",
   "execution_count": 2,
   "metadata": {},
   "outputs": [],
   "source": [
    "scopes = ['https://www.googleapis.com/auth/spreadsheets',\n",
    "        'https://www.googleapis.com/auth/drive']\n",
    "\n",
    "credentials = Credentials.from_service_account_file('/Users/tanhpuh/Documents/GitHub/codev2/code/Python/Pandas Google Spreadsheets/service_account.json', scopes=scopes)\n",
    "\n",
    "gc = gspread.authorize(credentials)\n",
    "\n",
    "gauth = GoogleAuth()\n",
    "drive = GoogleDrive(gauth)\n",
    "# share service account email to sheet: pandas-google-spreadsheets@thermal-creek-396612.iam.gserviceaccount.com"
   ]
  },
  {
   "cell_type": "markdown",
   "metadata": {},
   "source": [
    "# 3. Read Data SPSS"
   ]
  },
  {
   "cell_type": "code",
   "execution_count": 3,
   "metadata": {},
   "outputs": [
    {
     "name": "stdout",
     "output_type": "stream",
     "text": [
      "<class 'pandas.core.frame.DataFrame'>\n",
      "RangeIndex: 500 entries, 0 to 499\n",
      "Columns: 153 entries, stt to hocvan4n\n",
      "dtypes: float64(1), int64(44), object(108)\n",
      "memory usage: 597.8+ KB\n"
     ]
    }
   ],
   "source": [
    "# File path to your .sav file\n",
    "file_path = \"/Users/tanhpuh/Documents/GitHub/codev2/code/Python/lean/Data SPSS/Data thuc hanh.csv\"\n",
    "\n",
    "# Read the SPSS file\n",
    "df = pd.read_csv(file_path)\n",
    "# df, meta = pyreadstat.read_sav(file_path)\n",
    "\n",
    "# Display the first few rows and column information\n",
    "df.head(),df.info(),df.describe()\n",
    "\n",
    "# Capture the output of df.info()\n",
    "buffer_info = io.StringIO()\n",
    "df.info(buf=buffer_info)\n",
    "info_str = buffer_info.getvalue()\n",
    "\n",
    "# Capture the output of df.describe()\n",
    "describe_df = df.describe()\n",
    "\n",
    "# Save to Excel\n",
    "with pd.ExcelWriter('info_describe.xlsx') as writer:\n",
    "  # Write df.info() to the first sheet\n",
    "  pd.DataFrame({'Info': info_str.split('\\n')}).to_excel(writer, sheet_name='Info', index=False)\n",
    "  \n",
    "  # Write df.describe() to the second sheet\n",
    "  describe_df.to_excel(writer, sheet_name='Describe')"
   ]
  },
  {
   "cell_type": "markdown",
   "metadata": {},
   "source": [
    "# 4. Data Wrangling"
   ]
  },
  {
   "cell_type": "code",
   "execution_count": 4,
   "metadata": {},
   "outputs": [],
   "source": [
    "# Convert these columns to numeric\n",
    "columns_to_convert = ['c2a1', 'c2a2', 'c2a3', 'c2a4', 'c2a5', 'c2a6', 'c2a7', 'c2a8', 'c2a9', 'c2b1', 'c2b2', 'c2b3', 'c2c1', 'c2c2', 'c2c3', 'c2c4', 'c2c5', 'c2c6', 'c2d2', 'c2d3', 'c2d4', 'c2d5', 'c2d6', 'c4.2', 'c5.2', 'c8', 'c10', 'c11.1', 'c11.2', 'c12', 'c13', 'c14', 'c15', 'c16.1', 'c16.2', 'c16.3', 'c16.4', 'c16.5', 'c16.6', 'c16.7', 'c16.8', 'c16.9', 'c16.10', 'c16.11', 'c17.1', 'c17.2', 'c17.3', 'c17.4', 'c17.5', 'c18', 'c19.1', 'c19.2', 'c19.3', 'c20.1', 'c20.2', 'c20.3', 'c21', 'c22.1', 'c22.2', 'c22.3', 'c23a', 'c23b', 'c24a', 'c24b', 'c25', 'c26.1', 'c26.2', 'c26.3', 'c27', 'c28', 'c30a1', 'c30a2', 'c30a3', 'c30a4', 'c30a5', 'c30b1', 'c30b2', 'c30b3', 'c30b4', 'c30c1', 'c30c2', 'c30c3', 'c30c4', 'c30c5', 'c30d1', 'c30d2', 'c31.1', 'c31.2', 'c32.a1', 'c32.a2', 'c32.a3', 'c32.b1', 'c32.b2', 'c32.b3', 'c33.1', 'c33.2', 'c33.3', 'c34.1', 'c34.2', 'c34.3', 'c35.1', 'c35.2', 'c35.3', 'c36.8', 'c37.2', 'c37.3', 'c37.4', 'c37.5']\n",
    "df[columns_to_convert] = df[columns_to_convert].apply(pd.to_numeric, errors='coerce')"
   ]
  },
  {
   "cell_type": "markdown",
   "metadata": {},
   "source": [
    "# 5. Data Encryption\n",
    "Convert all dimension to value"
   ]
  },
  {
   "cell_type": "markdown",
   "metadata": {},
   "source": [
    "# 6. Descriptive Statistics\n",
    "This provides:\n",
    "-\tMean, standard deviation, min, 25th percentile, median (50th), 75th percentile, and max for numerical data.\n",
    "-\tUnique, top, and frequency for categorical data."
   ]
  },
  {
   "cell_type": "code",
   "execution_count": 5,
   "metadata": {},
   "outputs": [],
   "source": [
    "# Summary statistics\n",
    "basic_stats = df.describe(include='all')\n",
    "\n",
    "# Transpose for better readability\n",
    "descriptive_statistics = basic_stats.T\n",
    "\n",
    "descriptive_statistics.to_excel('descriptive_statistics.xlsx', sheet_name='Descriptive Statistics', index=True)"
   ]
  },
  {
   "cell_type": "markdown",
   "metadata": {},
   "source": [
    "# 7. Inferential Statistics"
   ]
  },
  {
   "cell_type": "markdown",
   "metadata": {},
   "source": [
    "# 7.1 Pearson Chi-Square\n",
    "2 biến định tính"
   ]
  },
  {
   "cell_type": "markdown",
   "metadata": {},
   "source": [
    "Kiểm định mỗi liên hệ giữa hai biến định tính. df['hocvan'] - Trình độ học vấn, df['c6.1'] - Cách đọc tờ báo (đọc từ đầu đến cuối, đọc lướt các mục, chỉ đọc mục hoặc trang ưu thích, xem các tin đáng chú ý)"
   ]
  },
  {
   "cell_type": "code",
   "execution_count": 6,
   "metadata": {},
   "outputs": [],
   "source": [
    "# Input the clolumns & Significance level\n",
    "x = df['hocvan4n']\n",
    "y = df['c6.1']\n",
    "alpha = 0.05"
   ]
  },
  {
   "cell_type": "code",
   "execution_count": 7,
   "metadata": {},
   "outputs": [
    {
     "name": "stdout",
     "output_type": "stream",
     "text": [
      "Pearson Chi-Square Results:\n",
      "        Chi2  p-value  Degrees of Freedom  \\\n",
      "0  20.237762   0.0165                   9   \n",
      "\n",
      "                                Expected Frequencies  \n",
      "0  [[17.76, 30.24, 5.52, 6.48], [63.64, 108.36, 1...  \n",
      "Reject the null hypothesis (p-value <= 0.05). There is a significant difference between the means of the two groups.\n",
      "Read file chi_square_test_results.xlsx\n"
     ]
    }
   ],
   "source": [
    "# Create a detailed Case Processing Summary table\n",
    "case_processing_summary = pd.DataFrame({\n",
    "  'Total': [len(x)],\n",
    "  'Missing Cases': [x.isnull().count()],\n",
    "  'Valid': [len(x) - x.isnull().count()]\n",
    "})\n",
    "\n",
    "# Create a Crosstabulation table with additional percentage information\n",
    "crosstab_with_totals = pd.crosstab(x, y, margins=True)\n",
    "crosstab_with_percent = pd.crosstab(x, y, margins=True, normalize='all')*100\n",
    "\n",
    "# Combine both into a multi-level DataFrame\n",
    "crosstab_combined = pd.concat(\n",
    "    {'User': crosstab_with_totals, 'Percent_User': crosstab_with_percent}, \n",
    "    axis=1\n",
    ")\n",
    "\n",
    "# Perform the Chi-Square test and create a table with the results\n",
    "crosstab = pd.crosstab(x, y)\n",
    "\n",
    "# Chi-Square Test\n",
    "chi2, p, dof, expected = chi2_contingency(crosstab)\n",
    "chi_square_results = {\n",
    "  'Chi2': chi2,\n",
    "  'p-value': p,\n",
    "  'Degrees of Freedom': dof,\n",
    "  'Expected Frequencies': expected\n",
    "}\n",
    "\n",
    "chi_square_results_df = pd.DataFrame({\n",
    "  'Chi2': [chi_square_results['Chi2']],\n",
    "  'p-value': [chi_square_results['p-value']],\n",
    "  'Degrees of Freedom': [chi_square_results['Degrees of Freedom']],\n",
    "  'Expected Frequencies': [chi_square_results['Expected Frequencies']]\n",
    "})\n",
    "print('Pearson Chi-Square Results:')\n",
    "print(chi_square_results_df)\n",
    "\n",
    "# Test the p-value\n",
    "if p < alpha:\n",
    "  hypothesis_testing = pd.DataFrame({\n",
    "    'Result': [f'Reject the null hypothesis (p-value <= {alpha}). There is a significant difference between the means of the two groups.']\n",
    "  })\n",
    "  print(f'Reject the null hypothesis (p-value <= {alpha}). There is a significant difference between the means of the two groups.')\n",
    "else:\n",
    "  hypothesis_testing = pd.DataFrame({\n",
    "    'Result': ['Fail to reject the null hypothesis (p-value > {alpha}). There is no significant difference between the means of the two groups.']\n",
    "  })\n",
    "  print(f'Fail to reject the null hypothesis (p-value > {alpha}). There is no significant difference between the means of the two groups.')\n",
    "\n",
    "# Save all the tables into a single CSV file\n",
    "with pd.ExcelWriter('chi_square_test_results.xlsx') as writer:\n",
    "  case_processing_summary.to_excel(writer, sheet_name='Case Processing Summary', index=False)\n",
    "  crosstab_combined.to_excel(writer, sheet_name='Crosstabulation')\n",
    "  chi_square_results_df.to_excel(writer, sheet_name='Chi-Square Test Results', index=False)\n",
    "  hypothesis_testing.to_excel(writer, sheet_name='Hypothesis Testing Results', index=False)\n",
    "\n",
    "print('Read file chi_square_test_results.xlsx')"
   ]
  },
  {
   "cell_type": "markdown",
   "metadata": {},
   "source": [
    "# 7.2 One-Sample T-test\n",
    "1 biến định lượng, 1 biến định tính. So sánh trung bình của một tổng thể với một giá trị cụ thể nào đó. VD: Kiểm định tuổi trung bình của độc giả báo Sài Gòn tiếp thị (SGTT) là 30 tuổi"
   ]
  },
  {
   "cell_type": "code",
   "execution_count": 8,
   "metadata": {},
   "outputs": [
    {
     "name": "stdout",
     "output_type": "stream",
     "text": [
      "docSGTT\n",
      "0    341\n",
      "1    159\n",
      "Name: count, dtype: int64\n",
      "       docSGTT        tuoi\n",
      "count    159.0  159.000000\n",
      "mean       1.0   32.786164\n",
      "std        0.0   10.328383\n",
      "min        1.0   18.000000\n",
      "25%        1.0   24.000000\n",
      "50%        1.0   31.000000\n",
      "75%        1.0   40.000000\n",
      "max        1.0   59.000000\n"
     ]
    },
    {
     "name": "stderr",
     "output_type": "stream",
     "text": [
      "/var/folders/90/0lwzz7y107b9zlcpf99xnks80000gn/T/ipykernel_22721/3435288329.py:2: PerformanceWarning: DataFrame is highly fragmented.  This is usually the result of calling `frame.insert` many times, which has poor performance.  Consider joining all columns at once using pd.concat(axis=1) instead. To get a de-fragmented frame, use `newframe = frame.copy()`\n",
      "  df['docSGTT'] = (df[['c2a1', 'c2a2', 'c2a3', 'c2a4', 'c2a5', 'c2a6', 'c2a7', 'c2a8', 'c2a9']] == 12).any(axis=1).astype(int)\n"
     ]
    }
   ],
   "source": [
    "# List of user read Sai Gon Tiep Thi newspaper or not\n",
    "df['docSGTT'] = (df[['c2a1', 'c2a2', 'c2a3', 'c2a4', 'c2a5', 'c2a6', 'c2a7', 'c2a8', 'c2a9']] == 12).any(axis=1).astype(int)\n",
    "\n",
    "docSGTT_counts = df['docSGTT'].value_counts()\n",
    "print(docSGTT_counts)\n",
    "\n",
    "# Filter the DataFrame to only include users who read Sai Gon Tiep Thi\n",
    "df_docSGTT = df.loc[df['docSGTT'] == 1, ['docSGTT', 'tuoi']]\n",
    "print(df_docSGTT.describe())"
   ]
  },
  {
   "cell_type": "code",
   "execution_count": 9,
   "metadata": {},
   "outputs": [],
   "source": [
    "# Input Test value\n",
    "table = df_docSGTT\n",
    "x = table['tuoi']\n",
    "test_value = 30\n",
    "confidence_interval = 0.95\n",
    "alpha = round(1 - confidence_interval,3)\n",
    "z_value = norm.ppf((1 + confidence_interval) / 2)"
   ]
  },
  {
   "cell_type": "code",
   "execution_count": 10,
   "metadata": {},
   "outputs": [
    {
     "name": "stdout",
     "output_type": "stream",
     "text": [
      "One-sample T-test results:\n",
      "   Test Value         t   df  Sig. (2-tailed)  Mean Difference  \\\n",
      "0          30  3.401518  158         0.000849         2.786164   \n",
      "\n",
      "   95.0% Confidence Interval of the Difference (Lower)  \\\n",
      "0                                           1.180769     \n",
      "\n",
      "   95.0% Confidence Interval of the Difference (Upper)  \n",
      "0                                           4.391558    \n",
      "Reject the null hypothesis (p-value <= 0.05). There is a significant difference between the means of the two groups. Mean Difference = 2.786163522012579\n",
      "Read file one_sample_t_test_results.xlsx\n"
     ]
    }
   ],
   "source": [
    "# Perform one-sample T-test\n",
    "t_stat, p_value = ttest_1samp(x, test_value)\n",
    "\n",
    "# Create the one-sample statistics table\n",
    "one_sample_statistics = pd.DataFrame({\n",
    "  'N': [x.count()],\n",
    "  'Mean': [x.mean()],\n",
    "  'Std. Deviation': [x.std()],\n",
    "  'Std. Error Mean': [x.sem()]\n",
    "})\n",
    "\n",
    "# Create the one-sample test table\n",
    "one_sample_test = pd.DataFrame({\n",
    "  'Test Value': [test_value],\n",
    "  't': [t_stat],\n",
    "  'df': [len(table) - 1],\n",
    "  'Sig. (2-tailed)': [p_value],\n",
    "  'Mean Difference': [x.mean() - test_value],\n",
    "  f'{round(confidence_interval*100,0)}% Confidence Interval of the Difference (Lower)': [x.mean() - test_value - z_value * x.sem()],\n",
    "  f'{round(confidence_interval*100,0)}% Confidence Interval of the Difference (Upper)': [x.mean() - test_value + z_value * x.sem()]\n",
    "})\n",
    "print('One-sample T-test results:')\n",
    "print(one_sample_test)\n",
    "\n",
    "# Test the p-value\n",
    "if p_value < alpha:\n",
    "  hypothesis_testing = pd.DataFrame({\n",
    "    'Result': [f'Reject the null hypothesis (p-value <= {alpha}). There is a significant difference between the means of the two groups. Mean Difference = {x.mean() - test_value}']\n",
    "  })\n",
    "  print(f'Reject the null hypothesis (p-value <= {alpha}). There is a significant difference between the means of the two groups. Mean Difference = {x.mean() - test_value}')\n",
    "else:\n",
    "  hypothesis_testing = pd.DataFrame({\n",
    "    'Result': [f'Fail to reject the null hypothesis (p-value > {alpha}). There is no significant difference between the means of the two groups.']\n",
    "  })\n",
    "  print(f'Fail to reject the null hypothesis (p-value > {alpha}). There is no significant difference between the means of the two groups.')\n",
    "\n",
    "# Save the results to an Excel file\n",
    "with pd.ExcelWriter('one_sample_t_test_results.xlsx') as writer:\n",
    "  one_sample_statistics.to_excel(writer, sheet_name='One-Sample Statistics', index=False)\n",
    "  one_sample_test.to_excel(writer, sheet_name='One-Sample Test', index=False)\n",
    "  hypothesis_testing.to_excel(writer, sheet_name='Hypothesis Testing Results', index=False)\n",
    "\n",
    "print('Read file one_sample_t_test_results.xlsx')"
   ]
  },
  {
   "cell_type": "markdown",
   "metadata": {},
   "source": [
    "# 7.3 Independent-sample T-test\n",
    "1 biến định tính, 1 biến định lượng. So sánh trị trung bình của 2 nhóm tổng thể riêng biệt trong biến định tính."
   ]
  },
  {
   "cell_type": "markdown",
   "metadata": {},
   "source": [
    "Kiểm định biến định lượng sonk - số nhân khẩu 1 gia đình và biến định tính tp - Thành Phố. So sánh giữa Hà Nội - 1 và TP HCM -2 về số nhân khẩu trung bình của hộ gia đình"
   ]
  },
  {
   "cell_type": "code",
   "execution_count": 11,
   "metadata": {},
   "outputs": [
    {
     "name": "stdout",
     "output_type": "stream",
     "text": [
      "tp\n",
      "1    250\n",
      "2    250\n",
      "Name: count, dtype: int64     sum_sonk\n",
      "tp          \n",
      "1       1073\n",
      "2       1332\n"
     ]
    }
   ],
   "source": [
    "# Filter the DataFrame to only include rows where 'tp' is 1 or 2\n",
    "filtered_df = df[df['tp'].isin([1, 2])][['tp', 'sonk']]\n",
    "\n",
    "filtered_df_count_tp = filtered_df['tp'].value_counts()\n",
    "filtered_df_sum_sonk = filtered_df.groupby('tp').agg(\n",
    "  sum_sonk = ('sonk', 'sum')\n",
    ")\n",
    "print(filtered_df_count_tp,filtered_df_sum_sonk)"
   ]
  },
  {
   "cell_type": "markdown",
   "metadata": {},
   "source": [
    "**Input Test Value**"
   ]
  },
  {
   "cell_type": "code",
   "execution_count": 12,
   "metadata": {},
   "outputs": [],
   "source": [
    "# Input Test value\n",
    "table = filtered_df\n",
    "confidence_interval = 0.95\n",
    "alpha = round(1 - confidence_interval,3)\n",
    "z_value = norm.ppf((1 + confidence_interval) / 2)\n",
    "group1 = table[table['tp'] == 1]['sonk']\n",
    "group2 = table[table['tp'] == 2]['sonk']\n",
    "x = table['sonk'] #quantitative data\n",
    "y = table['tp'] #qualitative data"
   ]
  },
  {
   "cell_type": "markdown",
   "metadata": {},
   "source": [
    "**Kolmogorov-Smirnow test to see if the data is normally distributed:**\n",
    "- If the data is normal distribution, use Independent Samples T-Test.\n",
    "- If the data is not normal distribution, use Mann-Whitney test."
   ]
  },
  {
   "cell_type": "code",
   "execution_count": 13,
   "metadata": {},
   "outputs": [
    {
     "name": "stdout",
     "output_type": "stream",
     "text": [
      "Kolmogorov-Smirnov Test Results:\n",
      "  Variable  KS Statistic       p-value  alpha  \\\n",
      "0     sonk      0.207213  2.625808e-19   0.05   \n",
      "\n",
      "                                              Result  \n",
      "0  Reject the null hypothesis (data does not foll...  \n",
      "Reject the null hypothesis (data does not follow normal distribution - Use Mann-Whitney Test)\n",
      "Read file independent_samples_t_test_ks_test_results.xlsx\n"
     ]
    }
   ],
   "source": [
    "# Perform the Kolmogorov-Smirnov test for normality\n",
    "ks_statistic, p_value = kstest(x, 'norm', args=(x.mean(), x.std()))\n",
    "\n",
    "# Create the Kolmogorov-Smirnov test results table\n",
    "ks_test_results = pd.DataFrame({\n",
    "  'Variable': [x.name],\n",
    "  'KS Statistic': [ks_statistic],\n",
    "  'p-value': [p_value],\n",
    "  'alpha': [alpha],\n",
    "  'Result': ['Reject the null hypothesis (data does not follow normal distribution)' if p_value <= alpha else 'Fail to reject the null hypothesis (data follows normal distribution)']\n",
    "})\n",
    "print('Kolmogorov-Smirnov Test Results:')\n",
    "print(ks_test_results)\n",
    "\n",
    "# Print the results\n",
    "if p_value < alpha:\n",
    "  print('Reject the null hypothesis (data does not follow normal distribution - Use Mann-Whitney Test)')\n",
    "else:\n",
    "  print('Fail to reject the null hypothesis (data follows normal distribution - Use Independent Samples T-Test)')\n",
    "\n",
    "# Save the results to an Excel file\n",
    "ks_test_results.to_excel('independent_samples_t_test_ks_test_results.xlsx', sheet_name='KS Test Results', index=False)\n",
    "\n",
    "print('Read file independent_samples_t_test_ks_test_results.xlsx')"
   ]
  },
  {
   "cell_type": "markdown",
   "metadata": {},
   "source": [
    "**Independent Samples T-Test**"
   ]
  },
  {
   "cell_type": "code",
   "execution_count": 14,
   "metadata": {},
   "outputs": [
    {
     "name": "stdout",
     "output_type": "stream",
     "text": [
      "Group Statistics:\n",
      "  Group    N   Mean  Std. Deviation  Std. Error Mean\n",
      "0     1  250  4.292        1.666688         0.105411\n",
      "1     2  250  5.328        2.714755         0.171696\n",
      "Independent Samples T-Test Results:\n",
      "                                      Test  Statistic   df  Sig. (2-tailed)  \\\n",
      "0  Levene's Test for Equality of Variances  31.409280  498     3.464659e-08   \n",
      "1             t-test for Equality of Means  -5.142153  498     3.910663e-07   \n",
      "2     t-test for Equality of Means (Welch)  -5.142153  498     4.201224e-07   \n",
      "\n",
      "   Mean Difference  95.0% Confidence Interval of the Difference (Lower)  \\\n",
      "0              NaN                                                NaN     \n",
      "1           -1.036                                          -1.579119     \n",
      "2           -1.036                                          -1.579119     \n",
      "\n",
      "   95.0% Confidence Interval of the Difference (Upper)  \n",
      "0                                                NaN    \n",
      "1                                          -0.492881    \n",
      "2                                          -0.492881    \n",
      "Reject the null hypothesis (p-value <= 0.05). There is a significant difference between the means of the two groups. Mean Difference: -1.0360000000000005\n",
      "Read file independent_samples_t_test_results.xlsx\n"
     ]
    }
   ],
   "source": [
    "# Calculate group statistics\n",
    "group_statistics = pd.DataFrame({\n",
    "  'Group': ['1', '2'],\n",
    "  'N': [group1.count(), group2.count()],\n",
    "  'Mean': [group1.mean(), group2.mean()],\n",
    "  'Std. Deviation': [group1.std(), group2.std()],\n",
    "  'Std. Error Mean': [group1.sem(), group2.sem()]\n",
    "})\n",
    "print('Group Statistics:')\n",
    "print(group_statistics)\n",
    "\n",
    "# Perform Levene's Test for Equality of Variances\n",
    "levene_stat, levene_p = levene(group1, group2)\n",
    "\n",
    "# Perform t-test for Equality of Means\n",
    "t_stat, p_value = ttest_ind(group1, group2, equal_var=True)\n",
    "t_stat_welch, p_value_welch = ttest_ind(group1, group2, equal_var=False)\n",
    "\n",
    "# Calculate confidence intervals\n",
    "ci_lower = group1.mean() - group2.mean() - z_value * (group1.sem() + group2.sem())\n",
    "ci_upper = group1.mean() - group2.mean() + z_value * (group1.sem() + group2.sem())\n",
    "\n",
    "# Create the independent samples test table\n",
    "independent_samples_test = pd.DataFrame({\n",
    "  'Test': ['Levene\\'s Test for Equality of Variances', 't-test for Equality of Means', 't-test for Equality of Means (Welch)'],\n",
    "  'Statistic': [levene_stat, t_stat, t_stat_welch],\n",
    "  'df': [len(group1) + len(group2) - 2, len(group1) + len(group2) - 2, len(group1) + len(group2) - 2],\n",
    "  'Sig. (2-tailed)': [levene_p, p_value, p_value_welch],\n",
    "  'Mean Difference': [None, group1.mean() - group2.mean(), group1.mean() - group2.mean()],\n",
    "  f'{round(confidence_interval*100,1)}% Confidence Interval of the Difference (Lower)': [None, ci_lower, ci_lower],\n",
    "  f'{round(confidence_interval*100,1)}% Confidence Interval of the Difference (Upper)': [None, ci_upper, ci_upper]\n",
    "})\n",
    "print('Independent Samples T-Test Results:')\n",
    "print(independent_samples_test)\n",
    "\n",
    "# Test the p-value\n",
    "if levene_p < alpha and p_value_welch < alpha:\n",
    "  hypothesis_testing = pd.DataFrame({\n",
    "    'Result': [f'Reject the null hypothesis (p-value <= {alpha}). There is a significant difference between the means of the two groups. Mean Difference: {group1.mean() - group2.mean()}']\n",
    "  })\n",
    "  print(f'Reject the null hypothesis (p-value <= {alpha}). There is a significant difference between the means of the two groups. Mean Difference: {group1.mean() - group2.mean()}')\n",
    "elif levene_p < alpha and p_value_welch >= alpha:\n",
    "  hypothesis_testing = pd.DataFrame({\n",
    "    'Result': [f'Fail to reject the null hypothesis (p-value > {alpha}). There is no significant difference between the means of the two groups.']\n",
    "  })\n",
    "  print(f'Fail to reject the null hypothesis (p-value > {alpha}). There is no significant difference between the means of the two groups.')\n",
    "elif levene_p >= alpha and p_value < alpha:\n",
    "  hypothesis_testing = pd.DataFrame({\n",
    "    'Result': [f'Reject the null hypothesis (p-value <= {alpha}). There is a significant difference between the means of the two groups. Mean Difference: {group1.mean() - group2.mean()}']\n",
    "  })\n",
    "  print(f'Reject the null hypothesis (p-value <= {alpha}). There is a significant difference between the means of the two groups. Mean Difference: {group1.mean() - group2.mean()}')\n",
    "else:\n",
    "  hypothesis_testing = pd.DataFrame({\n",
    "    'Result': [f'Fail to reject the null hypothesis (p-value > {alpha}). There is no significant difference between the means of the two groups.']\n",
    "  })\n",
    "  print(f'Fail to reject the null hypothesis (p-value > {alpha}). There is no significant difference between the means of the two groups.')\n",
    "\n",
    "# Save the results to an Excel file\n",
    "with pd.ExcelWriter('independent_samples_t_test_results.xlsx') as writer:\n",
    "  group_statistics.to_excel(writer, sheet_name='Group Statistics', index=False)\n",
    "  independent_samples_test.to_excel(writer, sheet_name='Independent Samples T-Test', index=False)\n",
    "  hypothesis_testing.to_excel(writer, sheet_name='Hypothesis Testing Results', index=False)\n",
    "\n",
    "print('Read file independent_samples_t_test_results.xlsx')"
   ]
  },
  {
   "cell_type": "markdown",
   "metadata": {},
   "source": [
    "**Mann-Whitney Test**"
   ]
  },
  {
   "cell_type": "code",
   "execution_count": 15,
   "metadata": {},
   "outputs": [
    {
     "name": "stdout",
     "output_type": "stream",
     "text": [
      "Group Statistics:\n",
      "  Group    N  Mean Rank  Sum of Ranks\n",
      "0     1  250      125.5       31375.0\n",
      "1     2  250      125.5       31375.0\n",
      "Mann-Whitney U Test Results:\n",
      "   U Statistic   p-value  alpha                                        Result\n",
      "0      23620.5  0.000001   0.05  Reject the null hypothesis (p-value <= 0.05)\n",
      "Reject the null hypothesis (p-value <= 0.05). There is a significant difference between the means of the two groups.\n",
      "Read file mann_whitney_test_results.xlsx\n"
     ]
    }
   ],
   "source": [
    "# Perform the Mann-Whitney U test\n",
    "u_stat, p_value = mannwhitneyu(group1, group2, alternative='two-sided')\n",
    "\n",
    "# Create the ranks table\n",
    "ranks = pd.DataFrame({\n",
    "  'Group': ['1', '2'],\n",
    "  'N': [len(group1), len(group2)],\n",
    "  'Mean Rank': [group1.rank().mean(), group2.rank().mean()],\n",
    "  'Sum of Ranks': [group1.rank().sum(), group2.rank().sum()]\n",
    "})\n",
    "print('Group Statistics:')\n",
    "print(ranks)\n",
    "\n",
    "# Create the test statistics table\n",
    "test_statistics = pd.DataFrame({\n",
    "  'U Statistic': [u_stat],\n",
    "  'p-value': [p_value],\n",
    "  'alpha': [alpha],\n",
    "  'Result': [f'Reject the null hypothesis (p-value <= {alpha})' if p_value <= alpha else f'Fail to reject the null hypothesis (p-value > {alpha})']\n",
    "})\n",
    "print('Mann-Whitney U Test Results:')\n",
    "print(test_statistics)\n",
    "\n",
    "# Test the p-value\n",
    "if p_value <= alpha:\n",
    "  hypothesis_testing = pd.DataFrame({\n",
    "    'Result': [f'Reject the null hypothesis (p-value <= {alpha}). There is a significant difference between the means of the two groups.']\n",
    "  })\n",
    "  print(f'Reject the null hypothesis (p-value <= {alpha}). There is a significant difference between the means of the two groups.')\n",
    "else:\n",
    "  hypothesis_testing = pd.DataFrame({\n",
    "    'Result': [f'Fail to reject the null hypothesis (p-value > {alpha}). There is no significant difference between the means of the two groups.']\n",
    "  })\n",
    "  print(f'Fail to reject the null hypothesis (p-value > {alpha}). There is no significant difference between the means of the two groups.')\n",
    "\n",
    "# Save the results to an Excel file\n",
    "with pd.ExcelWriter('mann_whitney_test_results.xlsx') as writer:\n",
    "  ranks.to_excel(writer, sheet_name='Ranks', index=False)\n",
    "  test_statistics.to_excel(writer, sheet_name='Test Statistics', index=False)\n",
    "  hypothesis_testing.to_excel(writer, sheet_name='Hypothesis Testing', index=False)\n",
    "\n",
    "print('Read file mann_whitney_test_results.xlsx')"
   ]
  },
  {
   "cell_type": "markdown",
   "metadata": {},
   "source": [
    "# 7.4 Paired-sample T-test\n",
    "1 biến định tính, 1 biến định lượng. So sánh trị trung bình của 2 nhóm tổng thể riêng biệt trong biến định tính và có đặc điểm là mỗi phần tử quan sát trong tổng thể này có sự tương đồng theo cặp với 1 phần tử ở tổng thể bên kia"
   ]
  },
  {
   "cell_type": "markdown",
   "metadata": {},
   "source": [
    "Data khảo sát đậu phộng trước và sau khi cải tiến, spban - Sản phẩm trước cải tiến, spthu - Sản phẩm sau cải tiến. Kiểm định sản phẩm trước cải tiến và sau cải tiến sản phẩm nào người tiêu dùng yêu thích hơn."
   ]
  },
  {
   "cell_type": "code",
   "execution_count": 16,
   "metadata": {},
   "outputs": [],
   "source": [
    "# File path to your .sav file\n",
    "file_path = \"/Users/tanhpuh/Documents/GitHub/codev2/code/Python/lean/Data SPSS/Dau phong.csv\"\n",
    "\n",
    "# Read the SPSS file\n",
    "df_dauphong = pd.read_csv(file_path)"
   ]
  },
  {
   "cell_type": "code",
   "execution_count": 17,
   "metadata": {},
   "outputs": [],
   "source": [
    "# Input data\n",
    "data = df_dauphong\n",
    "x = data['spban']\n",
    "y = data['spthu']\n",
    "confidence_interval = 0.95\n",
    "z_value = norm.ppf((1 + confidence_interval) / 2)\n",
    "alpha = round(1 - confidence_interval, 3)"
   ]
  },
  {
   "cell_type": "code",
   "execution_count": 18,
   "metadata": {},
   "outputs": [
    {
     "name": "stdout",
     "output_type": "stream",
     "text": [
      "Paired Samples Statistics:\n",
      "       Mean   N  Std. Deviation  Std. Error Mean\n",
      "spban   7.2  20        0.833509         0.186378\n",
      "spthu   7.8  20        1.399248         0.312881\n",
      "Paired Samples Correlation:\n",
      "    N  Correlation      Sig.\n",
      "0  20     0.532505  0.035809\n",
      "Paired Samples T-Test Results:\n",
      "   Mean  Std. Deviation  Std. Error Mean         t  df  Sig. (2-tailed)  \\\n",
      "0  -0.6        0.833509         0.186378 -2.259309  19         0.035809   \n",
      "\n",
      "   95.0% Confidence Interval of the Difference (Lower)  \\\n",
      "0                                          -0.965295     \n",
      "\n",
      "   95.0% Confidence Interval of the Difference (Upper)  \n",
      "0                                          -0.234705    \n",
      "Reject the null hypothesis (p-value <= 0.05)\n",
      "The mean of spthu (7.8) is greater than the mean of spban (7.2) with a mean difference of 0.5999999999999996.\n",
      "Read file paired_sample_t_test_results.xlsx\n"
     ]
    }
   ],
   "source": [
    "# Perform paired-sample T-test\n",
    "t_stat, p_value = ttest_rel(x, y)\n",
    "\n",
    "# Calculate the mean difference and standard error\n",
    "mean_diff = x.mean() - y.mean()\n",
    "std_err = x.std() / (len(data) ** 0.5)\n",
    "\n",
    "# Calculate confidence intervals\n",
    "ci_lower = mean_diff - z_value * std_err\n",
    "ci_upper = mean_diff + z_value * std_err\n",
    "\n",
    "# Create the paired samples statistics table\n",
    "paired_samples_statistics = pd.DataFrame({\n",
    "  'Mean': [x.mean(), y.mean()],\n",
    "  'N': [len(x), len(y)],\n",
    "  'Std. Deviation': [x.std(), y.std()],\n",
    "  'Std. Error Mean': [x.sem(), y.sem()]\n",
    "}, index=['spban', 'spthu'])\n",
    "print('Paired Samples Statistics:')\n",
    "print(paired_samples_statistics)\n",
    "\n",
    "# Create the paired samples correlation table\n",
    "paired_samples_correlation = pd.DataFrame({\n",
    "  'N': [len(data)],\n",
    "  'Correlation': [x.corr(y)],\n",
    "  'Sig.': [p_value]\n",
    "})\n",
    "print('Paired Samples Correlation:')\n",
    "print(paired_samples_correlation)\n",
    "\n",
    "# Create the paired samples test table\n",
    "paired_samples_test = pd.DataFrame({\n",
    "  'Mean': [mean_diff],\n",
    "  'Std. Deviation': [x.std()],\n",
    "  'Std. Error Mean': [std_err],\n",
    "  't': [t_stat],\n",
    "  'df': [len(data) - 1],\n",
    "  'Sig. (2-tailed)': [p_value],\n",
    "  f'{round(confidence_interval*100, 1)}% Confidence Interval of the Difference (Lower)': [ci_lower],\n",
    "  f'{round(confidence_interval*100, 1)}% Confidence Interval of the Difference (Upper)': [ci_upper]\n",
    "})\n",
    "print('Paired Samples T-Test Results:')\n",
    "print(paired_samples_test)\n",
    "\n",
    "# Test the p-value\n",
    "if p_value < alpha:\n",
    "  hypothesis_testing = pd.DataFrame({\n",
    "    'Result': [f'Reject the null hypothesis (p-value <= {alpha})'],\n",
    "    'Conclusion': [f\"The mean of {y.name} ({y.mean()}) is greater than the mean of {x.name} ({x.mean()}) with a mean difference of {-mean_diff}.\"]\n",
    "  })\n",
    "  print(f'Reject the null hypothesis (p-value <= {alpha})')\n",
    "  print(f\"The mean of {y.name} ({y.mean()}) is greater than the mean of {x.name} ({x.mean()}) with a mean difference of {-mean_diff}.\")\n",
    "else:\n",
    "  hypothesis_testing = pd.DataFrame({\n",
    "    'Result': [f'Fail to reject the null hypothesis (p-value > {alpha})'],\n",
    "    'Conclusion': [f\"The mean of {y.name} ({y.mean()}) is no significant difference with the mean of {x.name} ({x.mean()})\"]\n",
    "  })\n",
    "  print(f'Fail to reject the null hypothesis (p-value > {alpha})')\n",
    "  print(f\"The mean of {y.name} ({y.mean()}) is no significant difference with the mean of {x.name} ({x.mean()})\")\n",
    "\n",
    "# Save the results to an Excel file\n",
    "with pd.ExcelWriter('paired_sample_t_test_results.xlsx') as writer:\n",
    "  paired_samples_statistics.to_excel(writer, sheet_name='Paired Samples Statistics', index=True)\n",
    "  paired_samples_correlation.to_excel(writer, sheet_name='Paired Samples Correlation', index=False)\n",
    "  paired_samples_test.to_excel(writer, sheet_name='Paired Samples Test', index=False)\n",
    "  hypothesis_testing.to_excel(writer, sheet_name='Hypothesis Testing', index=False)\n",
    "  \n",
    "print('Read file paired_sample_t_test_results.xlsx')  "
   ]
  },
  {
   "cell_type": "markdown",
   "metadata": {},
   "source": [
    "# 7.5 One - Way ANOVA\n",
    "1 biến định tính, 1 biến định lượng. So sánh trị trung bình của n nhóm tổng thể riêng biệt trong 1 biến định tính."
   ]
  },
  {
   "cell_type": "markdown",
   "metadata": {},
   "source": [
    "Kiểm định đánh giá tầm quan trọng của yếu tố \"có tự do cá nhân\" - c36.6 (thang đo 7 điểm) đối với cuộc sống của con người có học vấn khác nhau - nhomhv (1 - cấp 1-2, 2 - cấp 3-THCN, 3 - CĐ-SVĐH, 4 - Tốt nghiệp ĐH)"
   ]
  },
  {
   "cell_type": "markdown",
   "metadata": {},
   "source": [
    "**Input Test Value**"
   ]
  },
  {
   "cell_type": "code",
   "execution_count": 19,
   "metadata": {},
   "outputs": [],
   "source": [
    "# Input data\n",
    "data = df[['c36.6', 'hocvan4n']]\n",
    "x = data['c36.6'] #quantitative data\n",
    "y = data['hocvan4n'] #qualitative data\n",
    "confidence_interval = 0.9\n",
    "z_value = norm.ppf((1 + confidence_interval) / 2)\n",
    "alpha = round(1 - confidence_interval, 3)"
   ]
  },
  {
   "cell_type": "markdown",
   "metadata": {},
   "source": [
    "**Kolmogorov-Smirnow test to see if the data is normally distributed:**\n",
    "- If the data is normal distribution, use Independent Samples T-Test.\n",
    "- If the data is not normal distribution, use Mann-Whitney test."
   ]
  },
  {
   "cell_type": "code",
   "execution_count": 20,
   "metadata": {},
   "outputs": [
    {
     "name": "stdout",
     "output_type": "stream",
     "text": [
      "Kolmogorov-Smirnov Test Results:\n",
      "  Variable  KS Statistic       p-value  alpha  \\\n",
      "0    c36.6      0.142219  2.751206e-09    0.1   \n",
      "\n",
      "                                              Result  \n",
      "0  Reject the null hypothesis (data does not foll...  \n",
      "Reject the null hypothesis (data does not follow normal distribution - Use Kruskal-Wallis)\n",
      "Read file one_way_anova_ks_test_results.xlsx\n"
     ]
    }
   ],
   "source": [
    "# Perform the Kolmogorov-Smirnov test for normality on 'x'\n",
    "ks_statistic, p_value = kstest(x, 'norm', args=(x.mean(), x.std()))\n",
    "\n",
    "# Create the Kolmogorov-Smirnov test results table\n",
    "ks_test_results = pd.DataFrame({\n",
    "  'Variable': [x.name],\n",
    "  'KS Statistic': [ks_statistic],\n",
    "  'p-value': [p_value],\n",
    "  'alpha': [alpha],\n",
    "  'Result': [f'Reject the null hypothesis (data does not follow normal distribution)' if p_value <= alpha else 'Fail to reject the null hypothesis (data follows normal distribution)']\n",
    "})\n",
    "print('Kolmogorov-Smirnov Test Results:')\n",
    "print(ks_test_results)\n",
    "\n",
    "# Print the results\n",
    "if p_value <= alpha:\n",
    "  print('Reject the null hypothesis (data does not follow normal distribution - Use Kruskal-Wallis)')\n",
    "else:\n",
    "  print('Fail to reject the null hypothesis (data follows normal distribution - Use One-Way Anova)')\n",
    "\n",
    "# Save the results to an Excel file\n",
    "ks_test_results.to_excel('one_way_anova_ks_test_results.xlsx', sheet_name='KS Test Results', index=False)\n",
    "\n",
    "print('Read file one_way_anova_ks_test_results.xlsx')"
   ]
  },
  {
   "cell_type": "markdown",
   "metadata": {},
   "source": [
    "**One - Way Anova**"
   ]
  },
  {
   "cell_type": "code",
   "execution_count": 21,
   "metadata": {
    "vscode": {
     "languageId": "ruby"
    }
   },
   "outputs": [
    {
     "name": "stdout",
     "output_type": "stream",
     "text": [
      "Descriptive Statistics:\n",
      "   hocvan4n  count      mean       std  min  max   std_err  90.0% CI Lower  \\\n",
      "0         1     60  5.433333  1.293618    2    7  0.167005        5.158634   \n",
      "1         2    215  5.181395  1.390767    1    7  0.094849        5.025382   \n",
      "2         3     91  5.362637  1.501973    2    7  0.157450        5.103656   \n",
      "3         4    134  4.970149  1.392463    1    7  0.120290        4.772289   \n",
      "\n",
      "   90.0% CI Upper  \n",
      "0        5.708033  \n",
      "1        5.337409  \n",
      "2        5.621619  \n",
      "3        5.168009  \n",
      "Homogeneity of Variances:\n",
      "                 Test  Statistic  p-value  alpha  \\\n",
      "0  Levene's Statistic   1.062487  0.36463    0.1   \n",
      "\n",
      "                                              Result  \n",
      "0  Fail to reject the null hypothesis (variances ...  \n",
      "One-way ANOVA Test:\n",
      "           Source  Sum of Squares     df  Mean Square         F      Sig.\n",
      "0  Between Groups       12.755521    3.0     4.251840  2.166159  0.091142\n",
      "1   Within Groups      973.572479  496.0     1.962848       NaN       NaN\n",
      "Reject the null hypothesis (p-value <= 0.1). There is a significant difference between the means of the groups.\n"
     ]
    },
    {
     "name": "stderr",
     "output_type": "stream",
     "text": [
      "/var/folders/90/0lwzz7y107b9zlcpf99xnks80000gn/T/ipykernel_22721/4233673736.py:34: FutureWarning: Series.__getitem__ treating keys as positions is deprecated. In a future version, integer keys will always be treated as labels (consistent with DataFrame behavior). To access a value by position, use `ser.iloc[pos]`\n",
      "  'Sum of Squares': [anova_table['sum_sq'][0], anova_table['sum_sq'][1]],\n",
      "/var/folders/90/0lwzz7y107b9zlcpf99xnks80000gn/T/ipykernel_22721/4233673736.py:35: FutureWarning: Series.__getitem__ treating keys as positions is deprecated. In a future version, integer keys will always be treated as labels (consistent with DataFrame behavior). To access a value by position, use `ser.iloc[pos]`\n",
      "  'df': [anova_table['df'][0], anova_table['df'][1]],\n",
      "/var/folders/90/0lwzz7y107b9zlcpf99xnks80000gn/T/ipykernel_22721/4233673736.py:36: FutureWarning: Series.__getitem__ treating keys as positions is deprecated. In a future version, integer keys will always be treated as labels (consistent with DataFrame behavior). To access a value by position, use `ser.iloc[pos]`\n",
      "  'Mean Square': [anova_table['sum_sq'][0] / anova_table['df'][0], anova_table['sum_sq'][1] / anova_table['df'][1]],\n",
      "/var/folders/90/0lwzz7y107b9zlcpf99xnks80000gn/T/ipykernel_22721/4233673736.py:37: FutureWarning: Series.__getitem__ treating keys as positions is deprecated. In a future version, integer keys will always be treated as labels (consistent with DataFrame behavior). To access a value by position, use `ser.iloc[pos]`\n",
      "  'F': [anova_table['F'][0], None],\n",
      "/var/folders/90/0lwzz7y107b9zlcpf99xnks80000gn/T/ipykernel_22721/4233673736.py:38: FutureWarning: Series.__getitem__ treating keys as positions is deprecated. In a future version, integer keys will always be treated as labels (consistent with DataFrame behavior). To access a value by position, use `ser.iloc[pos]`\n",
      "  'Sig.': [anova_table['PR(>F)'][0], None]\n",
      "/var/folders/90/0lwzz7y107b9zlcpf99xnks80000gn/T/ipykernel_22721/4233673736.py:74: FutureWarning: \n",
      "\n",
      "The `ci` parameter is deprecated. Use `errorbar=None` for the same effect.\n",
      "\n",
      "  bar_plot = sns.barplot(x=f'{y.name}', y='mean', data=descriptives, ci=None)\n"
     ]
    },
    {
     "data": {
      "image/png": "[encoded data removed]",
      "text/plain": [
       "<Figure size 1000x600 with 1 Axes>"
      ]
     },
     "metadata": {},
     "output_type": "display_data"
    }
   ],
   "source": [
    "# Perform one-way ANOVA\n",
    "formula = 'x ~ C(y)'\n",
    "# Fit the model\n",
    "model = ols(formula, data=df).fit()\n",
    "# Perform the ANOVA\n",
    "anova_table = sm.stats.anova_lm(model, typ=2)\n",
    "\n",
    "# model = ols('x ~ C(y)', data=df).fit()\n",
    "# anova_table = sm.stats.anova_lm(model, typ=2)\n",
    "\n",
    "# Descriptive statistics\n",
    "descriptives = df.groupby(f'{y.name}')[f'{x.name}'].agg(['count', 'mean', 'std', 'min', 'max']).reset_index()\n",
    "descriptives['std_err'] = descriptives['std'] / descriptives['count']**0.5\n",
    "descriptives[f'{round(confidence_interval*100,0)}% CI Lower'] = descriptives['mean'] - z_value * descriptives['std_err']\n",
    "descriptives[f'{round(confidence_interval*100,0)}% CI Upper'] = descriptives['mean'] + z_value * descriptives['std_err']\n",
    "print('Descriptive Statistics:')\n",
    "print(descriptives)\n",
    "\n",
    "# Levene's Test for Homogeneity of Variances\n",
    "levene_stat, levene_p = levene(*[group[f'{x.name}'].values for name, group in df.groupby(f'{y.name}')])\n",
    "homogeneity_of_variances = pd.DataFrame({\n",
    "  'Test': [\"Levene's Statistic\"],\n",
    "  'Statistic': [levene_stat],\n",
    "  'p-value': [levene_p],\n",
    "  'alpha': [alpha],\n",
    "  'Result': ['Reject the null hypothesis (variances are not equal)' if levene_p <= alpha else 'Fail to reject the null hypothesis (variances are equal)']\n",
    "})\n",
    "print('Homogeneity of Variances:')\n",
    "print(homogeneity_of_variances)\n",
    "\n",
    "# ANOVA table\n",
    "anova_results = pd.DataFrame({\n",
    "  'Source': ['Between Groups', 'Within Groups'],\n",
    "  'Sum of Squares': [anova_table['sum_sq'][0], anova_table['sum_sq'][1]],\n",
    "  'df': [anova_table['df'][0], anova_table['df'][1]],\n",
    "  'Mean Square': [anova_table['sum_sq'][0] / anova_table['df'][0], anova_table['sum_sq'][1] / anova_table['df'][1]],\n",
    "  'F': [anova_table['F'][0], None],\n",
    "  'Sig.': [anova_table['PR(>F)'][0], None]\n",
    "})\n",
    "# Print the ANOVA table to inspect its structure\n",
    "print('One-way ANOVA Test:')\n",
    "print(anova_results)\n",
    "\n",
    "# Welch's ANOVA\n",
    "welch_anova = pg.welch_anova(dv=f'{x.name}', between=f'{y.name}', data=data)\n",
    "p_value_welch = welch_anova['p-unc'].values[0]\n",
    "# Điều chỉnh giá trị p bằng Bonferroni\n",
    "welch_anova['p-corr'] = pg.multicomp(welch_anova['p-unc'].values, method='bonferroni')[1]\n",
    "\n",
    "# Test the p-value\n",
    "if levene_p < alpha and p_value_welch < alpha:\n",
    "  hypothesis_testing = pd.DataFrame({\n",
    "    'Result': [f'Reject the null hypothesis (p-value <= {alpha}). There is a significant difference between the means of the groups.']\n",
    "  })\n",
    "  print(f'Reject the null hypothesis (p-value <= {alpha}). There is a significant difference between the means of the groups.')\n",
    "elif levene_p < alpha and p_value_welch >= alpha:\n",
    "  hypothesis_testing = pd.DataFrame({\n",
    "    'Result': [f'Fail to reject the null hypothesis (p-value > {alpha}). There is no significant difference between the means of the groups.']\n",
    "  })\n",
    "  print(f'Fail to reject the null hypothesis (p-value > {alpha}). There is no significant difference between the means of the groups.')\n",
    "elif levene_p >= alpha and p_value < alpha:\n",
    "  hypothesis_testing = pd.DataFrame({\n",
    "    'Result': [f'Reject the null hypothesis (p-value <= {alpha}). There is a significant difference between the means of the groups.']\n",
    "  })\n",
    "  print(f'Reject the null hypothesis (p-value <= {alpha}). There is a significant difference between the means of the groups.')\n",
    "else:\n",
    "  hypothesis_testing = pd.DataFrame({\n",
    "    'Result': [f'Fail to reject the null hypothesis (p-value > {alpha}). There is no significant difference between the means of the groups.']\n",
    "  })\n",
    "  print(f'Fail to reject the null hypothesis (p-value > {alpha}). There is no significant difference between the means of the groups.')\n",
    "\n",
    "# Create a bar plot for the means of the groups\n",
    "plt.figure(figsize=(10, 6))\n",
    "bar_plot = sns.barplot(x=f'{y.name}', y='mean', data=descriptives, ci=None)\n",
    "\n",
    "# Add labels and title\n",
    "plt.xlabel(f'{y.name}')\n",
    "plt.ylabel(f'Mean of {x.name}')\n",
    "plt.title(f'Mean of {x.name} by {y.name} Groups with {round(confidence_interval*100,0)}% Confidence Intervals')\n",
    "\n",
    "# Annotate each bar with the mean value\n",
    "for index, row in descriptives.iterrows():\n",
    "  bar_plot.annotate(f'{row[\"mean\"]:.2f}', \n",
    "            xy=(index, row['mean']), \n",
    "            xytext=(0, 3), \n",
    "            textcoords='offset points', \n",
    "            ha='center', \n",
    "            va='bottom')\n",
    "\n",
    "# Save the plot as an image file\n",
    "plt.savefig('bar_plot_1_way_anova.png')\n",
    "\n",
    "# Show the plot\n",
    "plt.show()\n",
    "\n",
    "# Save the results to an Excel file\n",
    "with pd.ExcelWriter('one_way_anova_results.xlsx') as writer:\n",
    "  descriptives.to_excel(writer, sheet_name='Descriptives', index=False)\n",
    "  homogeneity_of_variances.to_excel(writer, sheet_name='Levene’s Test', index=False)\n",
    "  anova_results.to_excel(writer, sheet_name='ANOVA', index=False)\n",
    "  welch_anova.to_excel(writer, sheet_name='Welch One-Way ANOVA', index=False)\n",
    "  hypothesis_testing.to_excel(writer, sheet_name='Hypothesis Testing', index=False)\n",
    "  \n",
    "  # Access the XlsxWriter workbook and worksheet objects\n",
    "  workbook  = writer.book\n",
    "  worksheet = workbook.add_worksheet('Means Plot Chart')\n",
    "  \n",
    "  # Insert the image into the worksheet\n",
    "  worksheet.insert_image('A1', 'bar_plot_1_way_anova.png')"
   ]
  },
  {
   "cell_type": "markdown",
   "metadata": {},
   "source": [
    "**Kruskal-Wallis Test**"
   ]
  },
  {
   "cell_type": "code",
   "execution_count": 22,
   "metadata": {},
   "outputs": [
    {
     "name": "stdout",
     "output_type": "stream",
     "text": [
      "Descriptive Statistics:\n",
      "   hocvan4n  count      mean       std  min  max   std_err  90% CI Lower  \\\n",
      "0         1     60  5.433333  1.293618    2    7  0.167005      5.158634   \n",
      "1         2    215  5.181395  1.390767    1    7  0.094849      5.025382   \n",
      "2         3     91  5.362637  1.501973    2    7  0.157450      5.103656   \n",
      "3         4    134  4.970149  1.392463    1    7  0.120290      4.772289   \n",
      "\n",
      "   90% CI Upper  \n",
      "0      5.708033  \n",
      "1      5.337409  \n",
      "2      5.621619  \n",
      "3      5.168009  \n",
      "Ranks:\n",
      "   hocvan4n    N   Mean_Rank  Sum_of_Ranks\n",
      "0         1   60  274.058333       16443.5\n",
      "1         2  215  249.697674       53685.0\n",
      "2         3   91  270.010989       24571.0\n",
      "3         4  134  227.988806       30550.5\n",
      "Kruskal-Wallis Test Results:\n",
      "   Kruskal-Wallis H   p-value  alpha  \\\n",
      "0           6.83138  0.077471    0.1   \n",
      "\n",
      "                                          Result  \n",
      "0  Reject the null hypothesis (p-value <= alpha)  \n",
      "Reject the null hypothesis (p-value <= 0.1). There is a significant difference between the means of the groups.\n",
      "Read file one_way_anova_kruskal_wallis_test_results.xlsx\n"
     ]
    }
   ],
   "source": [
    "# Perform Kruskal-Wallis H-test\n",
    "kruskal_stat, kruskal_p = kruskal(*[group[f'{x.name}'].values for name, group in df.groupby(f'{y.name}')])\n",
    "\n",
    "# Descriptive statistics\n",
    "descriptive_stats = df.groupby(f'{y.name}')[f'{x.name}'].agg(['count', 'mean', 'std', 'min', 'max']).reset_index()\n",
    "descriptive_stats['std_err'] = descriptive_stats['std'] / descriptive_stats['count']**0.5\n",
    "descriptive_stats[f'{round(confidence_interval*100)}% CI Lower'] = descriptive_stats['mean'] - z_value * descriptive_stats['std_err']\n",
    "descriptive_stats[f'{round(confidence_interval*100)}% CI Upper'] = descriptive_stats['mean'] + z_value * descriptive_stats['std_err']\n",
    "print('Descriptive Statistics:')\n",
    "print(descriptive_stats)\n",
    "\n",
    "# Ranks\n",
    "ranks = df[[f'{y.name}', f'{x.name}']].copy()\n",
    "ranks['rank'] = ranks[f'{x.name}'].rank()\n",
    "ranks_summary = ranks.groupby(f'{y.name}').agg(\n",
    "  N=(f'{y.name}', 'size'),\n",
    "  Mean_Rank=('rank', 'mean'),\n",
    "  Sum_of_Ranks=('rank', 'sum')\n",
    ").reset_index()\n",
    "print('Ranks:')\n",
    "print(ranks_summary)\n",
    "\n",
    "# Test statistics\n",
    "test_statistics = pd.DataFrame({\n",
    "  'Kruskal-Wallis H': [kruskal_stat],\n",
    "  'p-value': [kruskal_p],\n",
    "  'alpha': [alpha],\n",
    "  'Result': ['Reject the null hypothesis (p-value <= alpha)' if kruskal_p <= alpha else 'Fail to reject the null hypothesis (p-value > alpha)']\n",
    "})\n",
    "print('Kruskal-Wallis Test Results:')\n",
    "print(test_statistics)\n",
    "\n",
    "if kruskal_p <= alpha:\n",
    "  hypothesis_testing = pd.DataFrame({\n",
    "    'Result': [f'Reject the null hypothesis (p-value <= {alpha}). There is a significant difference between the means of the groups.']\n",
    "  })\n",
    "  print(f'Reject the null hypothesis (p-value <= {alpha}). There is a significant difference between the means of the groups.')\n",
    "else:\n",
    "  hypothesis_testing = pd.DataFrame({\n",
    "    'Result': [f'Fail to reject the null hypothesis (p-value > {alpha}). There is no significant difference between the means of the groups.']\n",
    "  })\n",
    "  print(f'Fail to reject the null hypothesis (p-value > {alpha}). There is no significant difference between the means of the groups.')\n",
    "\n",
    "# Save the results to an Excel file\n",
    "with pd.ExcelWriter('one_way_anova_kruskal_wallis_test_results.xlsx') as writer:\n",
    "  descriptive_stats.to_excel(writer, sheet_name='Descriptive Statistics', index=False)\n",
    "  ranks_summary.to_excel(writer, sheet_name='Ranks', index=False)\n",
    "  test_statistics.to_excel(writer, sheet_name='Test Statistics', index=False)\n",
    "  hypothesis_testing.to_excel(writer, sheet_name='Hypothesis Testing', index=False)\n",
    "  \n",
    "print('Read file one_way_anova_kruskal_wallis_test_results.xlsx')"
   ]
  },
  {
   "cell_type": "markdown",
   "metadata": {},
   "source": [
    "**Dunn's Test**\n",
    "- Tìm điểm khác biệt của các yếu tố"
   ]
  },
  {
   "cell_type": "code",
   "execution_count": 23,
   "metadata": {},
   "outputs": [
    {
     "name": "stdout",
     "output_type": "stream",
     "text": [
      "Dunn's Test Results:\n",
      "   Group1  Group2  Test Statistic   p-value  Corrected p-value  Reject\n",
      "0       1       2        1.154793  0.248175           1.000000   False\n",
      "1       1       3        0.168448  0.866231           1.000000   False\n",
      "2       1       4        2.052710  0.040101           0.240604    True\n",
      "3       2       3       -1.124208  0.260925           1.000000   False\n",
      "4       2       4        1.365158  0.172203           1.000000   False\n",
      "5       3       4        2.141151  0.032262           0.193571    True\n",
      "Significant groups found:\n",
      "   Group1  Group2  Test Statistic   p-value  Corrected p-value  Reject\n",
      "2       1       4        2.052710  0.040101           0.240604    True\n",
      "5       3       4        2.141151  0.032262           0.193571    True\n",
      "Read file one_way_anova_dunn_test_results.xlsx\n"
     ]
    }
   ],
   "source": [
    "# Function to perform Dunn's Test\n",
    "def dunn_test(x, y, alpha=0.05):\n",
    "  # Rank the data\n",
    "  ranked_data = rankdata(x)\n",
    "  \n",
    "  # Get unique groups\n",
    "  groups = np.unique(y)\n",
    "  \n",
    "  # Calculate the sum of ranks for each group\n",
    "  sum_ranks = {group: np.sum(ranked_data[y == group]) for group in groups}\n",
    "  \n",
    "  # Calculate the number of observations for each group\n",
    "  n = {group: np.sum(y == group) for group in groups}\n",
    "  \n",
    "  # Calculate the total number of observations\n",
    "  N = len(x)\n",
    "  \n",
    "  # Calculate the mean rank for each group\n",
    "  mean_ranks = {group: sum_ranks[group] / n[group] for group in groups}\n",
    "  \n",
    "  # Calculate the overall mean rank\n",
    "  overall_mean_rank = np.mean(ranked_data)\n",
    "  \n",
    "  # Calculate the test statistic for each pair of groups\n",
    "  test_statistics = {}\n",
    "  for i, group1 in enumerate(groups):\n",
    "    for group2 in groups[i+1:]:\n",
    "      test_stat = (mean_ranks[group1] - mean_ranks[group2]) / np.sqrt((N * (N + 1)) / 12 * (1 / n[group1] + 1 / n[group2]))\n",
    "      test_statistics[(group1, group2)] = test_stat\n",
    "  \n",
    "  # Calculate the p-values for each pair of groups\n",
    "  p_values = {pair: 2 * (1 - norm.cdf(np.abs(test_stat))) for pair, test_stat in test_statistics.items()}\n",
    "  \n",
    "  # Apply Bonferroni correction\n",
    "  corrected_p_values = {pair: min(p * len(p_values), 1) for pair, p in p_values.items()}\n",
    "  \n",
    "  # Determine if the null hypothesis is rejected for each pair of groups\n",
    "  reject_null = {pair: p <= alpha for pair, p in p_values.items()}\n",
    "  \n",
    "  # Create a DataFrame to store the results\n",
    "  dunn_test_results = pd.DataFrame({\n",
    "    'Group1': [pair[0] for pair in test_statistics.keys()],\n",
    "    'Group2': [pair[1] for pair in test_statistics.keys()],\n",
    "    'Test Statistic': list(test_statistics.values()),\n",
    "    'p-value': list(p_values.values()),\n",
    "    'Corrected p-value': list(corrected_p_values.values()),\n",
    "    'Reject': list(reject_null.values())\n",
    "  })\n",
    "  \n",
    "  return dunn_test_results\n",
    "\n",
    "# Perform Dunn's Test\n",
    "dunn_test_results = dunn_test(x, y, alpha=alpha)\n",
    "\n",
    "# Print the results\n",
    "print('Dunn\\'s Test Results:')\n",
    "print(dunn_test_results)\n",
    "\n",
    "# Check which groups have a significant difference\n",
    "significant_results = dunn_test_results[dunn_test_results['Reject'] == True]\n",
    "\n",
    "# Print the significant groups\n",
    "if not significant_results.empty:\n",
    "  tukey_conclusion = pd.DataFrame({\n",
    "    'Significant Groups': [significant_results]\n",
    "  })\n",
    "  print(\"Significant groups found:\")\n",
    "  print(significant_results)\n",
    "else:\n",
    "  tukey_conclusion = pd.DataFrame({\n",
    "    'Conclusion': ['No significant groups found. There is no significant difference between the groups.']\n",
    "  })\n",
    "  print(\"No significant groups found. There is no significant difference between the groups.\")\n",
    "\n",
    "# Save the results to an Excel file\n",
    "with pd.ExcelWriter('one_way_anova_dunn_test_results.xlsx') as writer:\n",
    "  dunn_test_results.to_excel(writer, sheet_name='Dunn\\'s Test Results', index=False)\n",
    "  significant_results.to_excel(writer, sheet_name='Conclusion', index=False)\n",
    "\n",
    "print('Read file one_way_anova_dunn_test_results.xlsx')"
   ]
  },
  {
   "cell_type": "markdown",
   "metadata": {},
   "source": [
    "**Tukey Test**\n",
    "- Tìm điểm khác biệt của các yếu tố"
   ]
  },
  {
   "cell_type": "code",
   "execution_count": 24,
   "metadata": {},
   "outputs": [
    {
     "name": "stdout",
     "output_type": "stream",
     "text": [
      "Tukey Test Result:\n",
      "Multiple Comparison of Means - Tukey HSD, FWER=0.10\n",
      "===================================================\n",
      "group1 group2 meandiff p-adj   lower  upper  reject\n",
      "---------------------------------------------------\n",
      "     1      2  -0.2519  0.607 -0.7219  0.218  False\n",
      "     1      3  -0.0707 0.9903  -0.606 0.4646  False\n",
      "     1      4  -0.4632 0.1455 -0.9632 0.0368  False\n",
      "     2      3   0.1812 0.7293 -0.2213 0.5838  False\n",
      "     2      4  -0.2112 0.5189 -0.5655  0.143  False\n",
      "     3      4  -0.3925  0.167 -0.8297 0.0447  False\n",
      "---------------------------------------------------\n",
      "No significant groups found. There is no significant difference between the groups.\n",
      "Read file one_way_anova_tukey_hsd_test_results.xlsx\n"
     ]
    }
   ],
   "source": [
    "# Perform Tukey's HSD test\n",
    "tukey_result = pairwise_tukeyhsd(endog=x, groups=y, alpha=alpha)\n",
    "\n",
    "# Convert the result to a DataFrame for better readability\n",
    "tukey_result_df = pd.DataFrame(data=tukey_result.summary().data[1:], columns=tukey_result.summary().data[0])\n",
    "print('Tukey Test Result:')\n",
    "print(tukey_result)\n",
    "\n",
    "# Check which groups have a significant difference\n",
    "significant_groups = tukey_result_df[tukey_result_df['p-adj'] == True]\n",
    "\n",
    "# Print the significant groups\n",
    "if not significant_groups.empty:\n",
    "  tukey_conclusion = pd.DataFrame({\n",
    "    'Significant Groups': [significant_groups]\n",
    "  })\n",
    "  print(significant_groups)\n",
    "  print(\"Significant groups found:\")\n",
    "else:\n",
    "  tukey_conclusion = pd.DataFrame({\n",
    "    'Conclusion': ['No significant groups found. There is no significant difference between the groups.']\n",
    "  })\n",
    "  print(\"No significant groups found. There is no significant difference between the groups.\")\n",
    "\n",
    "# Save the results to an Excel file\n",
    "with pd.ExcelWriter('one_way_anova_tukey_hsd_test_results.xlsx') as writer:\n",
    "  tukey_result_df.to_excel(writer, sheet_name='Tukey HSD Test Results', index=False)\n",
    "  tukey_conclusion.to_excel(writer, sheet_name='Conclusion', index=False)\n",
    "\n",
    "print('Read file one_way_anova_tukey_hsd_test_results.xlsx')"
   ]
  },
  {
   "cell_type": "markdown",
   "metadata": {},
   "source": [
    "# 7.6 Two - Way ANOVA\n",
    "n biến định tính, 1 biến định lượng. So sánh trị trung bình của n nhóm tổng thể riêng biệt trong 1 biến định tính."
   ]
  },
  {
   "cell_type": "markdown",
   "metadata": {},
   "source": [
    "Kiểm định ảnh hưởng của mức độ yêu thích ngành học - yeuthich (thang đo 3 - Thang đo thứ bậc) & thời gian tự học - tuhoc (thang đo 3 - Thang đo thứ bậc) đến kết quả học tập của sinh viên - diemtb."
   ]
  },
  {
   "cell_type": "markdown",
   "metadata": {},
   "source": [
    "**Các giả thiết H0**\n",
    "- Điểm trung bình học tập (ĐTB) của sinh viên có thời gian tự học (TGTH) khác nhau đều bằng nhau.\n",
    "- Điểm trung bình học tập (ĐTB) của sinh viên có mức độ yêu thích ngành (MĐYTN) đang học khác nhau đều bằng nhau.\n",
    "- Không có ảnh hưởng tương tác giữa TGTH và MĐYTN --> Ảnh hưởng của các nhóm trong TGTH và MĐYTN đến ĐTB là như nhau. "
   ]
  },
  {
   "cell_type": "code",
   "execution_count": 25,
   "metadata": {},
   "outputs": [],
   "source": [
    "# File path to your .sav file\n",
    "file_path = \"/Users/tanhpuh/Documents/GitHub/codev2/code/Python/lean/Data SPSS/Phan tich phuong sai 2 yeu to.csv\"\n",
    "\n",
    "# Read the SPSS file\n",
    "df_diemtb = pd.read_csv(file_path)"
   ]
  },
  {
   "cell_type": "markdown",
   "metadata": {},
   "source": [
    "**Input Test Value**"
   ]
  },
  {
   "cell_type": "code",
   "execution_count": 26,
   "metadata": {},
   "outputs": [],
   "source": [
    "# Input data\n",
    "data = df_diemtb\n",
    "y = data['diemtb'] #quantitative data dependent variable\n",
    "x1 = data['yeuthich'] #qualitative data factor\n",
    "x2 = data['tuhoc'] #qualitative data factor\n",
    "confidence_interval = 0.95\n",
    "z_value = norm.ppf((1 + confidence_interval) / 2)\n",
    "alpha = round(1 - confidence_interval, 3)"
   ]
  },
  {
   "cell_type": "markdown",
   "metadata": {},
   "source": [
    "**Kolmogorov-Smirnow test to see if the data is normally distributed:**\n",
    "- If the data is normal distribution, use Independent Samples T-Test.\n",
    "- If the data is not normal distribution, use Mann-Whitney test."
   ]
  },
  {
   "cell_type": "code",
   "execution_count": 27,
   "metadata": {},
   "outputs": [
    {
     "name": "stdout",
     "output_type": "stream",
     "text": [
      "Kolmogorov-Smirnov Test Results:\n",
      "  Variable  KS Statistic   p-value  alpha  \\\n",
      "0   diemtb      0.099884  0.523373   0.05   \n",
      "\n",
      "                                              Result  \n",
      "0  Fail to reject the null hypothesis (data follo...  \n",
      "Fail to reject the null hypothesis (data follows normal distribution - Use Two-Way Anova)\n",
      "Read file two_way_anova_ks_test_results.xlsx\n"
     ]
    }
   ],
   "source": [
    "# Perform the Kolmogorov-Smirnov test for normality on 'diemtb'\n",
    "ks_statistic, p_value = kstest(y, 'norm', args=(y.mean(), y.std()))\n",
    "\n",
    "# Create the Kolmogorov-Smirnov test results table\n",
    "ks_test_results = pd.DataFrame({\n",
    "  'Variable': ['diemtb'],\n",
    "  'KS Statistic': [ks_statistic],\n",
    "  'p-value': [p_value],\n",
    "  'alpha': [alpha],\n",
    "  'Result': ['Reject the null hypothesis (data does not follow normal distribution)' if p_value <= alpha else 'Fail to reject the null hypothesis (data follows normal distribution)']\n",
    "})\n",
    "\n",
    "print('Kolmogorov-Smirnov Test Results:')\n",
    "print(ks_test_results)\n",
    "\n",
    "# Print the results\n",
    "if p_value <= alpha:\n",
    "  print('Reject the null hypothesis (data does not follow normal distribution - Use Kruskal-Wallis)')\n",
    "else:\n",
    "  print('Fail to reject the null hypothesis (data follows normal distribution - Use Two-Way Anova)')\n",
    "\n",
    "# Save the results to an Excel file\n",
    "ks_test_results.to_excel('two_way_anova_ks_test_results.xlsx', sheet_name='KS Test Results', index=False)\n",
    "\n",
    "print('Read file two_way_anova_ks_test_results.xlsx')"
   ]
  },
  {
   "cell_type": "markdown",
   "metadata": {},
   "source": [
    "**Two - Way ANOVA**"
   ]
  },
  {
   "cell_type": "code",
   "execution_count": 28,
   "metadata": {},
   "outputs": [
    {
     "name": "stdout",
     "output_type": "stream",
     "text": [
      "Between-Subjects Factors:\n",
      "   yeuthich  tuhoc  N\n",
      "0         1      1  7\n",
      "1         1      2  7\n",
      "2         1      3  7\n",
      "3         2      1  7\n",
      "4         2      2  7\n",
      "5         2      3  7\n",
      "6         3      1  7\n",
      "7         3      2  7\n",
      "8         3      3  7\n",
      "Descriptive Statistics:\n",
      "   yeuthich  tuhoc  count      mean       std   std_err\n",
      "0         1      1      7  5.614286  0.384831  0.145453\n",
      "1         1      2      7  6.042857  0.263674  0.099659\n",
      "2         1      3      7  6.128571  0.292770  0.110657\n",
      "3         2      1      7  5.757143  0.359894  0.136027\n",
      "4         2      2      7  6.400000  0.294392  0.111270\n",
      "5         2      3      7  6.914286  0.254484  0.096186\n",
      "6         3      1      7  5.728571  0.515475  0.194831\n",
      "7         3      2      7  6.757143  0.373529  0.141181\n",
      "8         3      3      7  7.357143  0.359894  0.136027\n",
      "Levene's Test of Equality of Error Variances:\n",
      "                 Test  Statistic   p-value  alpha  \\\n",
      "0  Levene's Statistic   1.957723  0.144078   0.05   \n",
      "\n",
      "                                              Result  \n",
      "0  Fail to reject the null hypothesis (variances ...  \n",
      "Two-Way ANOVA Results:\n",
      "                sum_sq    df          F        PR(>F)  reject\n",
      "C(x1)         5.040000   2.0  20.267234  2.714542e-07    True\n",
      "C(x2)        13.020000   2.0  52.357021  2.280431e-13    True\n",
      "C(x1):C(x2)   2.245714   4.0   4.515319  3.213249e-03    True\n",
      "Residual      6.714286  54.0        NaN           NaN   False\n",
      "          Mixed Linear Model Regression Results\n",
      "=========================================================\n",
      "Model:             MixedLM  Dependent Variable:  diemtb  \n",
      "No. Observations:  63       Method:              REML    \n",
      "No. Groups:        3        Scale:               0.1188  \n",
      "Min. group size:   21       Log-Likelihood:      -28.8343\n",
      "Max. group size:   21       Converged:           Yes     \n",
      "Mean group size:   21.0                                  \n",
      "---------------------------------------------------------\n",
      "               Coef.  Std.Err.   z    P>|z| [0.025 0.975]\n",
      "---------------------------------------------------------\n",
      "Intercept       5.629    0.338 16.656 0.000  4.966  6.291\n",
      "yeuthich       -0.214    0.141 -1.523 0.128 -0.490  0.061\n",
      "tuhoc          -0.007    0.156 -0.046 0.964 -0.314  0.299\n",
      "yeuthich:tuhoc  0.279    0.065  4.277 0.000  0.151  0.406\n",
      "Group Var       0.009    0.062                           \n",
      "=========================================================\n",
      "\n",
      "Chose Two-Way ANOVA Test\n",
      "Read file two_way_anova_results.xlsx\n"
     ]
    },
    {
     "name": "stderr",
     "output_type": "stream",
     "text": [
      "/Users/tanhpuh/Documents/GitHub/codev2/.venv/lib/python3.13/site-packages/statsmodels/regression/mixed_linear_model.py:2237: ConvergenceWarning: The MLE may be on the boundary of the parameter space.\n",
      "  warnings.warn(msg, ConvergenceWarning)\n"
     ]
    }
   ],
   "source": [
    "# Create a formula for the two-way ANOVA\n",
    "formula = 'y ~ C(x1) + C(x2) + C(x1):C(x2)'\n",
    "# Fit the model\n",
    "model = ols(formula, data=data).fit()\n",
    "# Perform the ANOVA\n",
    "anova_table = sm.stats.anova_lm(model, typ=2)\n",
    "# Add 'reject' column to anova_table\n",
    "anova_table['reject'] = anova_table['PR(>F)'] < alpha\n",
    "\n",
    "# Between-Subjects Factors\n",
    "between_subjects_factors = data.groupby([f'{x1.name}', f'{x2.name}']).size().reset_index(name='N')\n",
    "print('Between-Subjects Factors:')\n",
    "print(between_subjects_factors)\n",
    "\n",
    "# Descriptive statistics\n",
    "descriptive_stats = data.groupby([f'{x1.name}', f'{x2.name}']).agg(\n",
    "  count=(f'{y.name}', 'size'),\n",
    "  mean=(f'{y.name}', 'mean'),\n",
    "  std=(f'{y.name}', 'std')\n",
    ").reset_index()\n",
    "descriptive_stats['std_err'] = descriptive_stats['std'] / np.sqrt(descriptive_stats['count'])\n",
    "print('Descriptive Statistics:')\n",
    "print(descriptive_stats)\n",
    "\n",
    "# Levene's Test for Equality of Error Variances\n",
    "levene_stat, levene_p = levene(data[f'{y.name}'], data[f'{x1.name}'], data[f'{x2.name}'])\n",
    "levene_test_results = pd.DataFrame({\n",
    "  'Test': [\"Levene's Statistic\"],\n",
    "  'Statistic': [levene_stat],\n",
    "  'p-value': [levene_p],\n",
    "  'alpha': [alpha],\n",
    "  'Result': ['Reject the null hypothesis (variances are not equal)' if levene_p <= alpha else 'Fail to reject the null hypothesis (variances are equal)']\n",
    "})\n",
    "print(\"Levene's Test of Equality of Error Variances:\")\n",
    "print(levene_test_results)\n",
    "\n",
    "# Print the ANOVA table\n",
    "print('Two-Way ANOVA Results:')\n",
    "print(anova_table)\n",
    "\n",
    "# Sử dụng Mixed-effects Model\n",
    "mixed_model = smf.mixedlm(f'{y.name} ~ {x1.name} * {x2.name}', data, groups=data[f'{x2.name}'])\n",
    "mixed_fit = mixed_model.fit()\n",
    "print(mixed_fit.summary())\n",
    "# Extract the summary table from mixed_fit\n",
    "mixed_fit_df = mixed_fit.summary().tables[1]\n",
    "# Replace empty strings with NaN and then convert to float\n",
    "mixed_fit_df['P>|z|'] = mixed_fit_df['P>|z|'].replace('', np.nan).astype(float)\n",
    "# Add a new column 'reject' based on the condition\n",
    "mixed_fit_df['reject'] = mixed_fit_df['P>|z|'] < alpha\n",
    "\n",
    "# Test the p-value\n",
    "if levene_p < alpha:\n",
    "  hypothesis_testing = pd.DataFrame({\n",
    "    'Chose Test': [f'Mixed Fit Test']\n",
    "  })\n",
    "  print('Chose Mixed Fit Test')\n",
    "else:\n",
    "  hypothesis_testing = pd.DataFrame({\n",
    "    'Chose Test': [f'Two-Way ANOVA Test']\n",
    "  })\n",
    "  print('Chose Two-Way ANOVA Test')\n",
    "\n",
    "# Save the results to an Excel file\n",
    "with pd.ExcelWriter('two_way_anova_results.xlsx') as writer:\n",
    "  between_subjects_factors.to_excel(writer, sheet_name='Between-Subjects Factors', index=False)\n",
    "  descriptive_stats.to_excel(writer, sheet_name='Descriptive Statistics', index=False)\n",
    "  levene_test_results.to_excel(writer, sheet_name=\"Levene's Test\", index=False)\n",
    "  anova_table.to_excel(writer, sheet_name='Two-way ANOVA Test', index=True)\n",
    "  mixed_fit_df.to_excel(writer, sheet_name='Mixed Fit Test', index=True)\n",
    "  hypothesis_testing.to_excel(writer, sheet_name='Hypothesis Testing', index=False)\n",
    "print('Read file two_way_anova_results.xlsx')"
   ]
  },
  {
   "cell_type": "markdown",
   "metadata": {},
   "source": [
    "**Kruskal-Wallis Test**"
   ]
  },
  {
   "cell_type": "code",
   "execution_count": 29,
   "metadata": {},
   "outputs": [
    {
     "name": "stdout",
     "output_type": "stream",
     "text": [
      "Descriptive Statistics:\n",
      "   yeuthich  tuhoc  count      mean       std   std_err  95% CI Lower  \\\n",
      "0         1      1      7  5.614286  0.384831  0.145453      5.329204   \n",
      "1         1      2      7  6.042857  0.263674  0.099659      5.847529   \n",
      "2         1      3      7  6.128571  0.292770  0.110657      5.911688   \n",
      "3         2      1      7  5.757143  0.359894  0.136027      5.490534   \n",
      "4         2      2      7  6.400000  0.294392  0.111270      6.181915   \n",
      "5         2      3      7  6.914286  0.254484  0.096186      6.725765   \n",
      "6         3      1      7  5.728571  0.515475  0.194831      5.346709   \n",
      "7         3      2      7  6.757143  0.373529  0.141181      6.480434   \n",
      "8         3      3      7  7.357143  0.359894  0.136027      7.090534   \n",
      "\n",
      "   95% CI Upper  \n",
      "0      5.899368  \n",
      "1      6.238186  \n",
      "2      6.345455  \n",
      "3      6.023751  \n",
      "4      6.618085  \n",
      "5      7.102806  \n",
      "6      6.110433  \n",
      "7      7.033852  \n",
      "8      7.623751  \n",
      "Ranks:\n",
      "   yeuthich  tuhoc  N  Mean_Rank  Sum_of_Ranks\n",
      "0         1      1  7  12.500000          87.5\n",
      "1         1      2  7  23.071429         161.5\n",
      "2         1      3  7  27.857143         195.0\n",
      "3         2      1  7  16.071429         112.5\n",
      "4         2      2  7  36.357143         254.5\n",
      "5         2      3  7  50.500000         353.5\n",
      "6         3      1  7  17.071429         119.5\n",
      "7         3      2  7  46.428571         325.0\n",
      "8         3      3  7  58.142857         407.0\n",
      "Kruskal-Wallis Test Results:\n",
      "   Kruskal-Wallis H       p-value  alpha  \\\n",
      "0         46.111006  2.264238e-07   0.05   \n",
      "\n",
      "                                          Result  \n",
      "0  Reject the null hypothesis (p-value <= alpha)  \n",
      "Reject the null hypothesis (p-value <= 0.05). There is a significant difference between the means of the groups.\n",
      "Read file two_way_anova_kruskal_wallis_test_results.xlsx\n"
     ]
    }
   ],
   "source": [
    "# Perform Kruskal-Wallis H-test\n",
    "kruskal_stat, kruskal_p = kruskal(*[group[f'{y.name}'].values for name, group in data.groupby([f'{x1.name}', f'{x2.name}'])])\n",
    "\n",
    "# Descriptive statistics\n",
    "descriptive_stats = data.groupby([f'{x1.name}', f'{x2.name}']).agg(\n",
    "  count=(f'{y.name}', 'size'),\n",
    "  mean=(f'{y.name}', 'mean'),\n",
    "  std=(f'{y.name}', 'std')\n",
    ").reset_index()\n",
    "descriptive_stats['std_err'] = descriptive_stats['std'] / descriptive_stats['count']**0.5\n",
    "descriptive_stats[f'{round(confidence_interval*100)}% CI Lower'] = descriptive_stats['mean'] - z_value * descriptive_stats['std_err']\n",
    "descriptive_stats[f'{round(confidence_interval*100)}% CI Upper'] = descriptive_stats['mean'] + z_value * descriptive_stats['std_err']\n",
    "print('Descriptive Statistics:')\n",
    "print(descriptive_stats)\n",
    "\n",
    "# Ranks\n",
    "ranks = data[[f'{x1.name}', f'{x2.name}', f'{y.name}']].copy()\n",
    "ranks['rank'] = ranks[f'{y.name}'].rank()\n",
    "ranks_summary = ranks.groupby([f'{x1.name}', f'{x2.name}']).agg(\n",
    "  N=(f'{y.name}', 'size'),\n",
    "  Mean_Rank=('rank', 'mean'),\n",
    "  Sum_of_Ranks=('rank', 'sum')\n",
    ").reset_index()\n",
    "print('Ranks:')\n",
    "print(ranks_summary)\n",
    "\n",
    "# Test statistics\n",
    "test_statistics = pd.DataFrame({\n",
    "  'Kruskal-Wallis H': [kruskal_stat],\n",
    "  'p-value': [kruskal_p],\n",
    "  'alpha': [alpha],\n",
    "  'Result': ['Reject the null hypothesis (p-value <= alpha)' if kruskal_p <= alpha else 'Fail to reject the null hypothesis (p-value > alpha)']\n",
    "})\n",
    "print('Kruskal-Wallis Test Results:')\n",
    "print(test_statistics)\n",
    "\n",
    "if kruskal_p <= alpha:\n",
    "  hypothesis_testing = pd.DataFrame({\n",
    "    'Result': [f'Reject the null hypothesis (p-value <= {alpha}). There is a significant difference between the means of the groups.']\n",
    "  })\n",
    "  print(f'Reject the null hypothesis (p-value <= {alpha}). There is a significant difference between the means of the groups.')\n",
    "else:\n",
    "  hypothesis_testing = pd.DataFrame({\n",
    "    'Result': [f'Fail to reject the null hypothesis (p-value > {alpha}). There is no significant difference between the means of the groups.']\n",
    "  })\n",
    "  print(f'Fail to reject the null hypothesis (p-value > {alpha}). There is no significant difference between the means of the groups.')\n",
    "\n",
    "# Save the results to an Excel file\n",
    "with pd.ExcelWriter('two_way_anova_kruskal_wallis_test_results.xlsx') as writer:\n",
    "  descriptive_stats.to_excel(writer, sheet_name='Descriptive Statistics', index=False)\n",
    "  ranks_summary.to_excel(writer, sheet_name='Ranks', index=False)\n",
    "  test_statistics.to_excel(writer, sheet_name='Test Statistics', index=False)\n",
    "  hypothesis_testing.to_excel(writer, sheet_name='Hypothesis Testing', index=False)\n",
    "\n",
    "print('Read file two_way_anova_kruskal_wallis_test_results.xlsx')"
   ]
  },
  {
   "cell_type": "markdown",
   "metadata": {},
   "source": [
    "**Tukey Test**\n",
    "- Tìm điểm khác biệt của các yếu tố"
   ]
  },
  {
   "cell_type": "code",
   "execution_count": 30,
   "metadata": {},
   "outputs": [
    {
     "name": "stdout",
     "output_type": "stream",
     "text": [
      "Tukey Test Result for yeuthich:\n",
      "   group1  group2  meandiff   p-adj   lower   upper  reject\n",
      "0       1       2    0.4286  0.0643 -0.0203  0.8775   False\n",
      "1       1       3    0.6857  0.0015  0.2368  1.1346    True\n",
      "2       2       3    0.2571  0.3595 -0.1917  0.7060   False\n",
      "Tukey Test Result for tuhoc:\n",
      "   group1  group2  meandiff   p-adj   lower   upper  reject\n",
      "0       1       2    0.4286  0.0643 -0.0203  0.8775   False\n",
      "1       1       3    0.6857  0.0015  0.2368  1.1346    True\n",
      "2       2       3    0.2571  0.3595 -0.1917  0.7060   False\n",
      "Read file two_way_anova_tukey_hsd_test_results.xlsx\n"
     ]
    }
   ],
   "source": [
    "# Perform Tukey's HSD test for each variable\n",
    "tukey_result_1 = pairwise_tukeyhsd(endog=y, groups=x1, alpha=alpha)\n",
    "tukey_result_2 = pairwise_tukeyhsd(endog=y, groups=x2, alpha=alpha)\n",
    "\n",
    "# Convert the results to DataFrames for better readability\n",
    "tukey_result_1_df = pd.DataFrame(data=tukey_result_1.summary().data[1:], columns=tukey_result_1.summary().data[0])\n",
    "tukey_result_2_df = pd.DataFrame(data=tukey_result_2.summary().data[1:], columns=tukey_result_2.summary().data[0])\n",
    "\n",
    "# Print the results\n",
    "print('Tukey Test Result for yeuthich:')\n",
    "print(tukey_result_1_df)\n",
    "print('Tukey Test Result for tuhoc:')\n",
    "print(tukey_result_1_df)\n",
    "\n",
    "# Save the results to an Excel file\n",
    "with pd.ExcelWriter('two_way_anova_tukey_hsd_test_results.xlsx') as writer:\n",
    "  tukey_result_1_df.to_excel(writer, sheet_name=f'Tukey HSD Test Results {x1.name}', index=False)\n",
    "  tukey_result_2_df.to_excel(writer, sheet_name=f'Tukey HSD Test Results {x2.name}', index=False)\n",
    "\n",
    "print('Read file two_way_anova_tukey_hsd_test_results.xlsx')"
   ]
  },
  {
   "cell_type": "markdown",
   "metadata": {},
   "source": [
    "**Summary for Groups of Cases**"
   ]
  },
  {
   "cell_type": "code",
   "execution_count": 31,
   "metadata": {},
   "outputs": [
    {
     "data": {
      "image/png": "[encoded data removed]",
      "text/plain": [
       "<Figure size 1000x600 with 1 Axes>"
      ]
     },
     "metadata": {},
     "output_type": "display_data"
    },
    {
     "name": "stdout",
     "output_type": "stream",
     "text": [
      "Read file two_way_anova_tukey_hsd_test_results.xlsx\n"
     ]
    }
   ],
   "source": [
    "# Calculate the mean of diemtb grouped by x1 and x2\n",
    "mean_diemtb = data.groupby([f'{x1.name}', f'{x2.name}'])[f'{y.name}'].mean().reset_index()\n",
    "\n",
    "# Create the line plot\n",
    "plt.figure(figsize=(10, 6))\n",
    "sns.lineplot(data=mean_diemtb, x=f'{x1.name}', y=f'{y.name}', hue=f'{x2.name}', marker='o')\n",
    "\n",
    "# Add labels and title\n",
    "plt.xlabel(f'{x1.name}')\n",
    "plt.ylabel(f'Mean of {y.name}')\n",
    "plt.title(f'Line Plot of Mean {y.name} by {x1.name} and {x2.name}')\n",
    "\n",
    "# Save the plot as an image file\n",
    "plt.savefig('bar_plot_2_way_anova.png')\n",
    "\n",
    "# Show the plot\n",
    "plt.show()\n",
    "\n",
    "# Save the plot into the existing Excel file\n",
    "with pd.ExcelWriter('two_way_anova_tukey_hsd_test_results.xlsx', engine='openpyxl', mode='a') as writer:\n",
    "  # Access the openpyxl workbook and worksheet objects\n",
    "  workbook  = writer.book\n",
    "  worksheet = workbook.create_sheet('Means Plot Chart')\n",
    "  \n",
    "  # Insert the image into the worksheet\n",
    "  img = Image('bar_plot_2_way_anova.png')\n",
    "  worksheet.add_image(img, 'A1')\n",
    "\n",
    "print('Read file two_way_anova_tukey_hsd_test_results.xlsx')"
   ]
  },
  {
   "cell_type": "markdown",
   "metadata": {},
   "source": [
    "# 8. Rank Correlation Coefficient\n",
    "Đo lường mỗi quan hệ giữa 2 biến định lượng."
   ]
  },
  {
   "cell_type": "markdown",
   "metadata": {},
   "source": [
    "Đo lường mối quan hệ giữa 2 biến doanh số bán hàng (y) và chi phí chào hàng (x). Công ty ghi nhận 12 khu vực trong năm 1996"
   ]
  },
  {
   "cell_type": "code",
   "execution_count": 32,
   "metadata": {},
   "outputs": [],
   "source": [
    "# File path to your .sav file\n",
    "file_path = \"/Users/tanhpuh/Documents/GitHub/codev2/code/Python/lean/Data SPSS/Tqvahq.csv\"\n",
    "\n",
    "# Read the SPSS file\n",
    "dscp = pd.read_csv(file_path)"
   ]
  },
  {
   "cell_type": "markdown",
   "metadata": {},
   "source": [
    "**Input Test Value**"
   ]
  },
  {
   "cell_type": "code",
   "execution_count": 33,
   "metadata": {},
   "outputs": [],
   "source": [
    "# Input Data\n",
    "x = dscp['chaohang']\n",
    "y = dscp['doanhso']\n",
    "confidence_interval = 0.95\n",
    "z_value = norm.ppf((1 + confidence_interval) / 2)\n",
    "alpha = round(1 - confidence_interval, 3)"
   ]
  },
  {
   "cell_type": "markdown",
   "metadata": {},
   "source": [
    "**Scatter Plot**"
   ]
  },
  {
   "cell_type": "code",
   "execution_count": 34,
   "metadata": {},
   "outputs": [
    {
     "data": {
      "image/png": "[encoded data removed]",
      "text/plain": [
       "<Figure size 1000x600 with 1 Axes>"
      ]
     },
     "metadata": {},
     "output_type": "display_data"
    }
   ],
   "source": [
    "# Create a scatter plot\n",
    "plt.figure(figsize=(10, 6))\n",
    "sns.scatterplot(data=dscp, x=f'{x.name}', y=f'{y.name}')\n",
    "\n",
    "# Add labels and title\n",
    "plt.xlabel(f'{x.name}')\n",
    "plt.ylabel(f'{y.name}')\n",
    "plt.title(f'Biểu đồ phân tán giữa {y.name} và {x.name}')\n",
    "\n",
    "# Save the plot as an image file\n",
    "plt.savefig(f'scatterplot {y.name} and {x.name}.png')\n",
    "\n",
    "# Show the plot\n",
    "plt.show()"
   ]
  },
  {
   "cell_type": "markdown",
   "metadata": {},
   "source": [
    "**Kolmogorov-Smirnow test to see if the data is normally distributed:**\n",
    "- If the data is normal distribution, use Independent Samples T-Test.\n",
    "- If the data is not normal distribution, use Mann-Whitney test."
   ]
  },
  {
   "cell_type": "code",
   "execution_count": 35,
   "metadata": {},
   "outputs": [
    {
     "name": "stdout",
     "output_type": "stream",
     "text": [
      "Kolmogorov-Smirnov Test Results for x:\n",
      "  Variable  KS Statistic   p-value  alpha  \\\n",
      "0        x      0.146845  0.925214   0.05   \n",
      "\n",
      "                                              Result  \n",
      "0  Fail to reject the null hypothesis (data follo...  \n",
      "Kolmogorov-Smirnov Test Results for y:\n",
      "  Variable  KS Statistic   p-value  alpha  \\\n",
      "0        y      0.110075  0.995062   0.05   \n",
      "\n",
      "                                              Result  \n",
      "0  Fail to reject the null hypothesis (data follo...  \n",
      "Conclusion:\n",
      "                                              Result\n",
      "0  Data follow normal distribution. Chose Pearson...\n"
     ]
    }
   ],
   "source": [
    "# Perform the Kolmogorov-Smirnov test for normality on 'x' and 'y'\n",
    "ks_statistic_x, p_value_x = kstest(x, 'norm', args=(x.mean(), x.std()))\n",
    "ks_statistic_y, p_value_y = kstest(y, 'norm', args=(y.mean(), y.std()))\n",
    "\n",
    "# Create the Kolmogorov-Smirnov test results table for 'x'\n",
    "ks_test_results_x = pd.DataFrame({\n",
    "  'Variable': ['x'],\n",
    "  'KS Statistic': [ks_statistic_x],\n",
    "  'p-value': [p_value_x],\n",
    "  'alpha': [alpha],\n",
    "  'Result': ['Reject the null hypothesis (data does not follow normal distribution)' if p_value_x <= alpha else 'Fail to reject the null hypothesis (data follows normal distribution)']\n",
    "})\n",
    "\n",
    "# Create the Kolmogorov-Smirnov test results table for 'y'\n",
    "ks_test_results_y = pd.DataFrame({\n",
    "  'Variable': ['y'],\n",
    "  'KS Statistic': [ks_statistic_y],\n",
    "  'p-value': [p_value_y],\n",
    "  'alpha': [alpha],\n",
    "  'Result': ['Reject the null hypothesis (data does not follow normal distribution)' if p_value_y <= alpha else 'Fail to reject the null hypothesis (data follows normal distribution)']\n",
    "})\n",
    "\n",
    "# Results for Test\n",
    "if p_value_x > alpha and p_value_y > alpha:\n",
    "  result_ks = 'Data follow normal distribution. Chose Pearson Correlation'\n",
    "  conclusion_ks = pd.DataFrame({\n",
    "    'Result': [result_ks]\n",
    "  })\n",
    "else:\n",
    "  result_ks = 'Data does not follow normal distribution. Chose Spearman Correlation'\n",
    "  conclusion_ks = pd.DataFrame({\n",
    "    'Result': [result_ks]\n",
    "  })\n",
    "\n",
    "print('Kolmogorov-Smirnov Test Results for x:')\n",
    "print(ks_test_results_x)\n",
    "\n",
    "print('Kolmogorov-Smirnov Test Results for y:')\n",
    "print(ks_test_results_y)\n",
    "\n",
    "print('Conclusion:')\n",
    "print(conclusion_ks)\n",
    "\n",
    "# Lưu kết quả vào file Excel\n",
    "with pd.ExcelWriter('correlation_coefficient_ks_test_results.xlsx') as writer:\n",
    "  ks_test_results_x.to_excel(writer, sheet_name=f'KS Test Results {x.name}', index=False)\n",
    "  ks_test_results_y.to_excel(writer, sheet_name=f'KS Test Results {y.name}', index=False)\n",
    "  conclusion_ks.to_excel(writer, sheet_name='Conclusion', index=False)"
   ]
  },
  {
   "cell_type": "markdown",
   "metadata": {},
   "source": [
    "**Calculator r (Correlation Coefficient)**\n",
    "* Pearson - dữ liệu có phân phối chuẩn. \n",
    "* Ppearman - dữ liện không cần phân phối chuẩn."
   ]
  },
  {
   "cell_type": "code",
   "execution_count": 36,
   "metadata": {},
   "outputs": [
    {
     "name": "stdout",
     "output_type": "stream",
     "text": [
      "Pearson Correlation:\n",
      "  Variable 1 Variable 2  Pearson Correlation   p-value\n",
      "0   chaohang    doanhso             0.904627  0.000053\n",
      "r Pearson: The correlation between chaohang and doanhso is strong and significant.\n",
      "Spearman Correlation:\n",
      "  Variable 1 Variable 2  Spearman Correlation   p-value\n",
      "0   chaohang    doanhso              0.821901  0.001038\n",
      "r Spearman: The correlation between chaohang and doanhso is strong and significant.\n",
      "Read file correlation_results.xlsx\n"
     ]
    }
   ],
   "source": [
    "# Tính hệ số tương quan Pearson\n",
    "pearson_corr, pearson_p_value = pearsonr(x, y)\n",
    "\n",
    "# Tạo bảng tương quan Pearson\n",
    "pearson_corr_df = pd.DataFrame({\n",
    "  'Variable 1': ['chaohang'],\n",
    "  'Variable 2': ['doanhso'],\n",
    "  'Pearson Correlation': [pearson_corr],\n",
    "  'p-value': [pearson_p_value]\n",
    "})\n",
    "print('Pearson Correlation:')\n",
    "print(pearson_corr_df)\n",
    "\n",
    "# Conclusion based on Pearson correlation coefficient\n",
    "if abs(pearson_corr) >= 0.7:\n",
    "  correlation_strength = \"strong\"\n",
    "elif 0.3 <= abs(pearson_corr) < 0.7:\n",
    "  correlation_strength = \"moderate\"\n",
    "else:\n",
    "  correlation_strength = \"weak\"\n",
    "\n",
    "if pearson_p_value < alpha:\n",
    "  significance = \"significant\"\n",
    "else:\n",
    "  significance = \"not significant\"\n",
    "\n",
    "conclusion_pearson = f\"r Pearson: The correlation between {x.name} and {y.name} is {correlation_strength} and {significance}.\"\n",
    "\n",
    "print(conclusion_pearson)\n",
    "\n",
    "# Tính hệ số tương quan Spearman\n",
    "spearman_corr, spearman_p_value = spearmanr(x, y)\n",
    "\n",
    "# Tạo bảng tương quan Spearman\n",
    "spearman_corr_df = pd.DataFrame({\n",
    "  'Variable 1': ['chaohang'],\n",
    "  'Variable 2': ['doanhso'],\n",
    "  'Spearman Correlation': [spearman_corr],\n",
    "  'p-value': [spearman_p_value]\n",
    "})\n",
    "print('Spearman Correlation:')\n",
    "print(spearman_corr_df)\n",
    "\n",
    "# Conclusion based on Spearman correlation coefficient\n",
    "if abs(spearman_corr) >= 0.7:\n",
    "  correlation_strength_spearman = \"strong\"\n",
    "elif 0.3 <= abs(spearman_corr) < 0.7:\n",
    "  correlation_strength_spearman = \"moderate\"\n",
    "else:\n",
    "  correlation_strength_spearman = \"weak\"\n",
    "\n",
    "if spearman_p_value < alpha:\n",
    "  significance_spearman = \"significant\"\n",
    "else:\n",
    "  significance_spearman = \"not significant\"\n",
    "\n",
    "conclusion_spearman = f\"r Spearman: The correlation between {x.name} and {y.name} is {correlation_strength_spearman} and {significance_spearman}.\"\n",
    "\n",
    "print(conclusion_spearman)\n",
    "\n",
    "conclusion = pd.DataFrame({\n",
    "  'Result Pearson Correlation': [conclusion_pearson],\n",
    "  'Result Spearman Correlation': [conclusion_spearman],\n",
    "  'Chose Test Type':[result_ks]\n",
    "})\n",
    "\n",
    "# Lưu kết quả vào file Excel\n",
    "with pd.ExcelWriter('correlation_coefficient_results.xlsx') as writer:\n",
    "  pearson_corr_df.to_excel(writer, sheet_name='Pearson Correlation', index=False)\n",
    "  spearman_corr_df.to_excel(writer, sheet_name='Spearman Correlation', index=False)\n",
    "  conclusion.to_excel(writer, sheet_name='Conclusion', index=False)\n",
    "\n",
    "  # Access the XlsxWriter workbook and worksheet objects\n",
    "  workbook  = writer.book\n",
    "  worksheet = workbook.add_worksheet('Bar Plot')\n",
    "  \n",
    "  # Insert the image into the worksheet\n",
    "  worksheet.insert_image('A1', f'scatterplot {y.name} and {x.name}.png')\n",
    "  \n",
    "print('Read file correlation_results.xlsx')\n"
   ]
  }
 ],
 "metadata": {
  "kernelspec": {
   "display_name": ".venv",
   "language": "python",
   "name": "python3"
  },
  "language_info": {
   "codemirror_mode": {
    "name": "ipython",
    "version": 3
   },
   "file_extension": ".py",
   "mimetype": "text/x-python",
   "name": "python",
   "nbconvert_exporter": "python",
   "pygments_lexer": "ipython3",
   "version": "3.13.0"
  }
 },
 "nbformat": 4,
 "nbformat_minor": 2
}
